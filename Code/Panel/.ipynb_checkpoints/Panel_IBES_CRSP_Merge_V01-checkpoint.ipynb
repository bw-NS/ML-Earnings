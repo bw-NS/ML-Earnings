{
 "cells": [
  {
   "cell_type": "markdown",
   "metadata": {
    "toc": true
   },
   "source": [
    "<h1>Table of Contents<span class=\"tocSkip\"></span></h1>\n",
    "<div class=\"toc\"><ul class=\"toc-item\"><li><span><a href=\"#Load-data\" data-toc-modified-id=\"Load-data-1\"><span class=\"toc-item-num\">1&nbsp;&nbsp;</span>Load data</a></span></li><li><span><a href=\"#Merge-IBES-and-CRSP\" data-toc-modified-id=\"Merge-IBES-and-CRSP-2\"><span class=\"toc-item-num\">2&nbsp;&nbsp;</span>Merge IBES and CRSP</a></span></li><li><span><a href=\"#Add-CIK\" data-toc-modified-id=\"Add-CIK-3\"><span class=\"toc-item-num\">3&nbsp;&nbsp;</span>Add CIK</a></span></li></ul></div>"
   ]
  },
  {
   "cell_type": "code",
   "execution_count": 1,
   "metadata": {},
   "outputs": [],
   "source": [
    "# Objective of this code is to add the CRSP after-hours returns and one month ahead returns."
   ]
  },
  {
   "cell_type": "code",
   "execution_count": 2,
   "metadata": {},
   "outputs": [],
   "source": [
    "import numpy as np\n",
    "import pandas as pd\n",
    "import warnings\n",
    "warnings.filterwarnings('ignore')\n",
    "\n",
    "from pandas.tseries.holiday import USFederalHolidayCalendar\n",
    "from pandas.tseries.offsets import CustomBusinessDay\n",
    "from datetime import datetime, time\n",
    "bday_us = CustomBusinessDay(calendar=USFederalHolidayCalendar())"
   ]
  },
  {
   "cell_type": "markdown",
   "metadata": {},
   "source": [
    "# Load data"
   ]
  },
  {
   "cell_type": "code",
   "execution_count": 14,
   "metadata": {},
   "outputs": [],
   "source": [
    "# IBES\n",
    "# This code loads the data for the IBES SUE constructed for the CFR RIP paper.\n",
    "# The code is the IBES_Data_Processing_1983_2019\n",
    "ibes = pd.read_hdf('../../Data/IBES/Earnings_Surprises_1983_2019_v01.h5')\n",
    "\n",
    "# keep only the earnings announcements for which we have timestamps\n",
    "ibes = ibes[ibes['IBES_Timestamp'].dt.time != time(0)]\n",
    "ibes = ibes[ibes['IBES_Timestamp'].dt.year >= 1996]"
   ]
  },
  {
   "cell_type": "code",
   "execution_count": 41,
   "metadata": {},
   "outputs": [],
   "source": [
    "# CRSP\n",
    "crsp = pd.read_csv('../../Data/CRSP/crsp_dsf_1970_2019_sc10_11_ec123.csv.gz', parse_dates=['date'])\n",
    "crsp = crsp[crsp['date'].dt.year>=1996]\n",
    "crsp = crsp[['PERMNO', 'TICKER', 'date',  'PRC', 'CFACPR', 'OPENPRC', 'SHROUT', 'VOL', 'RET']]\n",
    "crsp['PRC'] = np.abs(crsp.PRC)\n",
    "crsp['OPENPRC'] = np.abs(crsp['OPENPRC'])\n",
    "crsp['mcap'] = crsp['SHROUT']*crsp['PRC']\n",
    "\n",
    "# adjust the closing price for splits on the next trading day (if it occurs)\n",
    "crsp['LAGPRC'] = crsp.groupby('PERMNO')['PRC'].shift()\n",
    "crsp['LAGPRC'] = np.where((crsp['CFACPR'].shift() != crsp['CFACPR']) &\n",
    "                          (crsp['CFACPR'].shift() > 1), crsp['LAGPRC']/(crsp['CFACPR'].shift()/crsp['CFACPR']),\n",
    "                          crsp['LAGPRC'])\n",
    "crsp['PRC1'] = crsp.groupby('PERMNO')['PRC'].shift(-1)\n",
    "crsp['OCRET'] = (crsp['PRC1']-crsp['OPENPRC'])/crsp['OPENPRC']\n",
    "\n",
    "# Calculate the overnight return\n",
    "crsp['ONRET'] = (crsp['OPENPRC']-crsp['LAGPRC'])/crsp['LAGPRC']"
   ]
  },
  {
   "cell_type": "code",
   "execution_count": 46,
   "metadata": {},
   "outputs": [],
   "source": [
    "crsp['RET'] = np.where(crsp.RET.isin(['A', 'B', 'C']), np.nan, crsp.RET)\n",
    "crsp['RET'] = crsp['RET'].astype(float)"
   ]
  },
  {
   "cell_type": "code",
   "execution_count": 42,
   "metadata": {},
   "outputs": [],
   "source": [
    "# Merge the market returns from the fama french file\n",
    "ff = pd.read_csv('../../Data/FamaFrench/F-F_Research_Data_Factors_daily.CSV')\n",
    "ff['date'] = pd.to_datetime(ff['date'], format='%Y%m%d')\n",
    "ff = ff[['date', 'Mkt-RF', 'RF']]\n",
    "ff[['Mkt-RF', 'RF']] = ff[['Mkt-RF', 'RF']]/100\n",
    "ff['Mkt'] = ff['Mkt-RF']-ff['RF']\n",
    "ff = ff.rename(columns={'Mkt-RF':'ExMkt'})"
   ]
  },
  {
   "cell_type": "code",
   "execution_count": 43,
   "metadata": {},
   "outputs": [],
   "source": [
    "crsp = pd.merge(crsp, ff, on=['date'])"
   ]
  },
  {
   "cell_type": "code",
   "execution_count": 44,
   "metadata": {},
   "outputs": [],
   "source": [
    "crsp = crsp.sort_values(['PERMNO','date'], ascending=[True, False])"
   ]
  },
  {
   "cell_type": "code",
   "execution_count": 47,
   "metadata": {
    "scrolled": true
   },
   "outputs": [],
   "source": [
    "crsp['lnRET'] = np.log(1+crsp['RET'])\n",
    "crsp['lnExMkt'] = np.log(1+crsp['ExMkt'])\n",
    "\n",
    "crsp[['lnRET_2','lnExMkt_2']] = crsp.groupby('PERMNO')[['lnRET','lnExMkt']].rolling(2).sum().reset_index(0, drop=True)\n",
    "crsp[['lnRET_30','lnExMkt_30']] = crsp.groupby('PERMNO')[['lnRET','lnExMkt']].rolling(30).sum().reset_index(0, drop=True)\n",
    "crsp[['lnRET_60','lnExMkt_60']] = crsp.groupby('PERMNO')[['lnRET','lnExMkt']].rolling(60).sum().reset_index(0, drop=True)"
   ]
  },
  {
   "cell_type": "code",
   "execution_count": 49,
   "metadata": {},
   "outputs": [],
   "source": [
    "crsp['BHAR_0_1'] = crsp['lnRET_2']-crsp['lnExMkt_2']"
   ]
  },
  {
   "cell_type": "code",
   "execution_count": 50,
   "metadata": {},
   "outputs": [],
   "source": [
    "crsp['BHAR_2_30'] = np.exp(crsp['lnRET_30'] - crsp['lnRET_2']) - np.exp(crsp['lnExMkt_30'] - crsp['lnExMkt_2'])\n",
    "crsp['BHAR_2_60'] = np.exp(crsp['lnRET_60'] - crsp['lnRET_2']) - np.exp(crsp['lnExMkt_60'] - crsp['lnExMkt_2'])"
   ]
  },
  {
   "cell_type": "code",
   "execution_count": 51,
   "metadata": {},
   "outputs": [],
   "source": [
    "crsp = crsp.sort_values(['PERMNO','date'])"
   ]
  },
  {
   "cell_type": "code",
   "execution_count": 57,
   "metadata": {},
   "outputs": [],
   "source": [
    "# adjust date if earnings after 4 pm\n",
    "ibes['IBES_Date_Adj_ON'] = np.where(ibes['IBES_Timestamp'].dt.time>=time(16),\n",
    "                                    ibes['date']+pd.offsets.Day(1), ibes['date'])"
   ]
  },
  {
   "cell_type": "code",
   "execution_count": 58,
   "metadata": {},
   "outputs": [],
   "source": [
    "trading_days = pd.DataFrame(index=(np.sort(list(crsp['date'].dt.date.unique()))))"
   ]
  },
  {
   "cell_type": "code",
   "execution_count": 59,
   "metadata": {},
   "outputs": [],
   "source": [
    "# (3) Create an IBES Adjusted date to get the first trading day following the\n",
    "# news if the EA is on a holiday or weekend.\n",
    "date_adj = []\n",
    "for x in ibes['IBES_Date_Adj_ON'].dt.date:\n",
    "    if x in trading_days:\n",
    "        date_adj.append(x)\n",
    "    else:\n",
    "        date_adj.append(trading_days.loc[x:].index.min())"
   ]
  },
  {
   "cell_type": "code",
   "execution_count": 60,
   "metadata": {},
   "outputs": [],
   "source": [
    "ibes['date'] = date_adj"
   ]
  },
  {
   "cell_type": "code",
   "execution_count": 66,
   "metadata": {},
   "outputs": [],
   "source": [
    "ibes = ibes[['date', 'PERMNO','GVKEY', 'CNAME',  'IBES_Timestamp',  'Year', 'Quarter', 'rdq',\n",
    "             'SUE_Med', 'sue_rw', 'ACTUAL', 'ADJ_ACTUAL', 'numest', 'dispersion',\n",
    "             'ggroup', 'gind', 'gsector', 'gsubind', 'medest',  'sp500', 'sp400', 'sp600', 'sp1500']]"
   ]
  },
  {
   "cell_type": "markdown",
   "metadata": {},
   "source": [
    "# Merge IBES and CRSP"
   ]
  },
  {
   "cell_type": "code",
   "execution_count": 71,
   "metadata": {},
   "outputs": [],
   "source": [
    "ibes['date'] = pd.to_datetime(ibes['date'])"
   ]
  },
  {
   "cell_type": "code",
   "execution_count": 72,
   "metadata": {},
   "outputs": [],
   "source": [
    "ibes_merged = pd.merge(ibes, crsp, on=['date', 'PERMNO'], how='left')"
   ]
  },
  {
   "cell_type": "code",
   "execution_count": 74,
   "metadata": {},
   "outputs": [],
   "source": [
    "ibes_merged.to_hdf('../../Data/IBES_CRSP_Merged_1996_2019_v01.h5', key='panel')"
   ]
  },
  {
   "cell_type": "markdown",
   "metadata": {},
   "source": [
    "# Add CIK"
   ]
  },
  {
   "cell_type": "code",
   "execution_count": 27,
   "metadata": {},
   "outputs": [],
   "source": [
    "ibes_merged = pd.read_hdf('../../Data/IBES_CRSP_Merged_1996_2019_v01.h5')\n",
    "ibes_merged['PERMNO'] = ibes_merged['PERMNO'].astype(int)\n",
    "ibes_merged['GVKEY'] = ibes_merged['GVKEY'].astype(int)"
   ]
  },
  {
   "cell_type": "code",
   "execution_count": 25,
   "metadata": {},
   "outputs": [],
   "source": [
    "cik = pd.read_csv('../../Data/CRSP/crsp_cik_merge.csv.gz').rename(columns={'gvkey':'GVKEY',\n",
    "                                                                           'LPERMNO':\"PERMNO\",\n",
    "                                                                           'cik':\"CIK\", 'LINKDT':'date'})\n",
    "cik = cik[cik['CIK'].notnull()]\n",
    "cik = cik[['GVKEY', 'PERMNO', 'CIK', 'date']]\n",
    "cik['date'] = pd.to_datetime(cik['date'])\n",
    "cik['CIK'] = cik['CIK'].astype(int)\n",
    "cik['PERMNO'] = cik['PERMNO'].astype(int)\n",
    "cik['GVKEY'] = cik['GVKEY'].astype(int)\n"
   ]
  },
  {
   "cell_type": "code",
   "execution_count": 31,
   "metadata": {},
   "outputs": [],
   "source": [
    "ibes_merged = ibes_merged.sort_values(by='date')\n",
    "cik = cik.sort_values(by='date')"
   ]
  },
  {
   "cell_type": "code",
   "execution_count": 35,
   "metadata": {},
   "outputs": [],
   "source": [
    "ibes_merged = pd.merge_asof(ibes_merged, cik, on='date', by=['PERMNO', 'GVKEY'])"
   ]
  },
  {
   "cell_type": "code",
   "execution_count": 37,
   "metadata": {},
   "outputs": [],
   "source": [
    "ibes_merged.to_hdf('../../Data/IBES_CRSP_Merged_1996_2019_v01.h5', key='panel')"
   ]
  }
 ],
 "metadata": {
  "kernelspec": {
   "display_name": "Python 3",
   "language": "python",
   "name": "python3"
  },
  "language_info": {
   "codemirror_mode": {
    "name": "ipython",
    "version": 3
   },
   "file_extension": ".py",
   "mimetype": "text/x-python",
   "name": "python",
   "nbconvert_exporter": "python",
   "pygments_lexer": "ipython3",
   "version": "3.7.4"
  },
  "toc": {
   "base_numbering": 1,
   "nav_menu": {},
   "number_sections": true,
   "sideBar": true,
   "skip_h1_title": false,
   "title_cell": "Table of Contents",
   "title_sidebar": "Contents",
   "toc_cell": true,
   "toc_position": {},
   "toc_section_display": true,
   "toc_window_display": false
  }
 },
 "nbformat": 4,
 "nbformat_minor": 2
}
