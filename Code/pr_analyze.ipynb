{
 "cells": [
  {
   "cell_type": "code",
   "execution_count": 3,
   "id": "stuck-huntington",
   "metadata": {},
   "outputs": [],
   "source": [
    "from sklearn.datasets import load_files\n",
    "import numpy as np\n",
    "from sklearn.feature_extraction.text import CountVectorizer\n",
    "from sklearn.model_selection import cross_val_score\n",
    "from sklearn.linear_model import LogisticRegression, SGDClassifier, ElasticNetCV\n",
    "from sklearn.model_selection import GridSearchCV\n",
    "from sklearn.feature_extraction.text import ENGLISH_STOP_WORDS\n",
    "from sklearn.feature_extraction.text import TfidfVectorizer\n",
    "from sklearn.ensemble import GradientBoostingClassifier, AdaBoostClassifier, RandomForestClassifier, RandomForestRegressor\n",
    "from sklearn import svm\n",
    "#import statsmodels.formula.api as smf\n",
    "from sklearn.metrics import mean_squared_error\n",
    "\n",
    "from sklearn.pipeline import make_pipeline\n",
    "#import mglearn\n",
    "import os\n",
    "import warnings\n",
    "import pandas as pd\n",
    "import re\n",
    "import matplotlib.pyplot as plt\n",
    "import seaborn as sns"
   ]
  },
  {
   "cell_type": "code",
   "execution_count": 4,
   "id": "active-junction",
   "metadata": {},
   "outputs": [
    {
     "name": "stdout",
     "output_type": "stream",
     "text": [
      "0.10462212541120453\n"
     ]
    }
   ],
   "source": [
    "#for i in range(250,255):\n",
    "#    print(i) \n",
    "i=0    \n",
    "ret_10D = 1\n",
    "for j in range(i, i+10):\n",
    "    ret_10D *= (1+0.01)\n",
    "ret_10D -= 1\n",
    "print(ret_10D)"
   ]
  },
  {
   "cell_type": "code",
   "execution_count": 8,
   "id": "sixth-legend",
   "metadata": {},
   "outputs": [],
   "source": [
    "pr_dir = 'C:/Users/Steve/Projects/ML Earnings/Data/'\n",
    "pr_df = pd.read_parquet(pr_dir + 'PR_panel.parquet')\n",
    "#pr_df = pd.read_parquet(pr_dir + 'PR_panel_stem_unstem_pred.parquet')"
   ]
  },
  {
   "cell_type": "code",
   "execution_count": 9,
   "id": "involved-spelling",
   "metadata": {},
   "outputs": [
    {
     "data": {
      "text/plain": [
       "'ex  vex unassociated document aep industries inc reports fiscal  third quarter year date results sou'"
      ]
     },
     "execution_count": 9,
     "metadata": {},
     "output_type": "execute_result"
    }
   ],
   "source": [
    "pr_df['text'].iloc[2][:100]"
   ]
  },
  {
   "cell_type": "code",
   "execution_count": 15,
   "id": "varied-vanilla",
   "metadata": {},
   "outputs": [
    {
     "data": {
      "text/plain": [
       "array([array([0.00021207], dtype=float32),\n",
       "       array([0.00047557], dtype=float32),\n",
       "       array([0.00046675], dtype=float32), ...,\n",
       "       array([0.00040304], dtype=float32),\n",
       "       array([0.00015319], dtype=float32),\n",
       "       array([0.0002128], dtype=float32)], dtype=object)"
      ]
     },
     "execution_count": 15,
     "metadata": {},
     "output_type": "execute_result"
    }
   ],
   "source": [
    "#pr_final.head(10)\n",
    "#rms = mean_squared_error(pr_final['stemmed-pred'].values,pr_final.LRet_12pm_OpenNext)\n",
    "#pr_final['stemmed-pred'].values\n",
    "#plt.hist(pr_final.LRet_12pm_OpenNext, bins=100, histtype='step');\n",
    "#plt.hist(pr_final['clean-pred'], density=True, bins=30)"
   ]
  },
  {
   "cell_type": "code",
   "execution_count": 10,
   "id": "congressional-bulgaria",
   "metadata": {},
   "outputs": [
    {
     "data": {
      "text/plain": [
       "<seaborn.axisgrid.FacetGrid at 0x1ba32592e20>"
      ]
     },
     "execution_count": 10,
     "metadata": {},
     "output_type": "execute_result"
    },
    {
     "data": {
      "image/png": "[encoded data removed]",
      "text/plain": [
       "<Figure size 360x360 with 1 Axes>"
      ]
     },
     "metadata": {
      "needs_background": "light"
     },
     "output_type": "display_data"
    }
   ],
   "source": [
    "sns.displot(pr_df['LRet_12pm_OpenNext'], kde=False, color='red', bins=50)"
   ]
  },
  {
   "cell_type": "code",
   "execution_count": 11,
   "id": "controlled-weekend",
   "metadata": {},
   "outputs": [
    {
     "name": "stdout",
     "output_type": "stream",
     "text": [
      "type of text_train: <class 'pandas.core.series.Series'>\n",
      "length of text_train: 36750\n"
     ]
    }
   ],
   "source": [
    "word_limit  = 200\n",
    "def limit_words(text):\n",
    "    return ' '.join(text.split(' ')[:word_limit])\n",
    "\n",
    "text_train = pr_df.text_clean_stemmed.apply(limit_words)\n",
    "\n",
    "print(\"type of text_train: {}\".format(type(text_train)))\n",
    "print(\"length of text_train: {}\".format(len(text_train)))"
   ]
  },
  {
   "cell_type": "code",
   "execution_count": 12,
   "id": "aquatic-preparation",
   "metadata": {},
   "outputs": [
    {
     "data": {
      "text/plain": [
       "'ex news releas contact media investor relat robert c ferri elena doom honeywel report full year sale billion proforma earn per share report earn per share morri township nj januari honeywel nyse hon today announc fourth quarter full year result follow sale billion versu billion organ growth reflect continu strength end market contribut new product launch geograph expans proforma earn exclud impact pension mark market adjust per share report earn reflect loss per share versu earn per share prior year pension mark market adjust per share calcul use million weight averag share outstand assum dilut cash flow oper billion includ million cash pension contribut quarter free cash flow cash flow oper less capit expenditur billion prior million cash pension contribut compani report full year result includ sale billion approxim organ sale growth reflect strong end market success new product launch continu expans high growth region proforma earn exclud impact pension mark market adjust per share report ep versu prior year pension mark market adjust per share calcul use million weight averag share outstand assum dilut cash flow oper billion includ billion cash pension contribut year free cash flow approxim billion prior billion cash pension contribut q result pension mark market'"
      ]
     },
     "execution_count": 12,
     "metadata": {},
     "output_type": "execute_result"
    }
   ],
   "source": [
    "text_train.iloc[100]"
   ]
  },
  {
   "cell_type": "code",
   "execution_count": 21,
   "id": "portuguese-hepatitis",
   "metadata": {},
   "outputs": [
    {
     "name": "stderr",
     "output_type": "stream",
     "text": [
      "c:\\Users\\Steve\\Projects\\ML Earnings\\.venv\\lib\\site-packages\\sklearn\\utils\\deprecation.py:87: FutureWarning: Function get_feature_names is deprecated; get_feature_names is deprecated in 1.0 and will be removed in 1.2. Please use get_feature_names_out instead.\n",
      "  warnings.warn(msg, category=FutureWarning)\n"
     ]
    }
   ],
   "source": [
    "y_train = pr_df.LRet_12pm_OpenNext\n",
    "\n",
    "\n",
    "\n",
    "N = len(text_train)\n",
    "\n",
    "max_df = np.int64(np.floor(0.3 * N))\n",
    "min_df = np.int64(np.floor(0.001 * N))\n",
    "\n",
    "\n",
    "#%% Vectorize dataset\n",
    "\n",
    "\n",
    "#vect = CountVectorizer(min_df=20, stop_words=\"english\", max_df=350).fit(text_train)\n",
    "vect = TfidfVectorizer(min_df=min_df, max_df=max_df).fit(text_train)\n",
    "\n",
    "X_train = vect.transform(text_train)\n",
    "#print(\"X_train with stop words:\\n{}\".format(repr(X_train)))\n",
    "\n",
    "\n",
    "feature_names = vect.get_feature_names()\n",
    "#print(\"Number of features: {}\".format(len(feature_names)))\n",
    "#print(\"First 20 features:\\n{}\".format(feature_names[:20]))\n",
    "#print(\"Features 1010 to 1030:\\n{}\".format(feature_names[1010:10030]))\n",
    "#print(\"Every 200th feature:\\n{}\".format(feature_names[::200]))\n",
    "\n",
    "X_train_binary = 1.0 * (X_train > 0)\n",
    "\n",
    "#%% ElasticNet estimation\n",
    "\n",
    "\n",
    "regr = ElasticNetCV(cv=5)\n",
    "regr.fit(X_train, y_train)\n",
    "\n",
    "\n",
    "y_fitted = regr.predict(X_train)\n",
    "\n",
    "\n",
    "pr_df['EN_fit'] = y_fitted\n",
    "\n",
    "#%% Support Vector Regression1`\n",
    "\n",
    "SVM_regr = svm.SVR()\n",
    "SVM_regr.fit(X_train, y_train)\n",
    "SVM_y_fitted = SVM_regr.predict(X_train)\n",
    "\n",
    "pr_df['SVM_fit'] = SVM_y_fitted\n",
    "\n",
    "\n",
    "#%% Random Forest Regression\n",
    "\n",
    "#RF_regr = RandomForestRegressor(max_depth=2, random_state=0, verbose=1)\n",
    "#RF_regr.fit(X_train, y_train)\n",
    "#RF_y_fitted = RF_regr.predict(X_train)\n",
    "\n",
    "#pr_df['RF_fit'] = RF_y_fitted\n",
    "\n",
    "\n",
    "pr_df.to_parquet('PR_panel_EN_fit.parquet')"
   ]
  },
  {
   "cell_type": "code",
   "execution_count": 20,
   "id": "07aa702e",
   "metadata": {},
   "outputs": [
    {
     "data": {
      "text/plain": [
       "(scipy.sparse.csr.csr_matrix,\n",
       " pandas.core.series.Series,\n",
       " <36750x4261 sparse matrix of type '<class 'numpy.float64'>'\n",
       " \twith 2303901 stored elements in Compressed Sparse Row format>)"
      ]
     },
     "execution_count": 20,
     "metadata": {},
     "output_type": "execute_result"
    }
   ],
   "source": [
    "type(X_train),type(y_train), X_train"
   ]
  },
  {
   "cell_type": "code",
   "execution_count": 23,
   "id": "dying-russia",
   "metadata": {},
   "outputs": [
    {
     "data": {
      "text/plain": [
       "(-26.275408050117, -1.0601478557048272)"
      ]
     },
     "execution_count": 23,
     "metadata": {},
     "output_type": "execute_result"
    }
   ],
   "source": [
    "from sklearn.metrics import r2_score\n",
    "pr_df[['EN_fit','SVM_fit']]\n",
    "#rms = mean_squared_error(pr_df.SVM_fit,pr_df.LRet_12pm_OpenNext)\n",
    "#rms\n",
    "r2_score(pr_df['EN_fit'],pr_df.LRet_12pm_OpenNext),r2_score(pr_df['SVM_fit'],pr_df.LRet_12pm_OpenNext)"
   ]
  },
  {
   "cell_type": "code",
   "execution_count": 59,
   "id": "bulgarian-verification",
   "metadata": {},
   "outputs": [
    {
     "name": "stderr",
     "output_type": "stream",
     "text": [
      "/Users/zissis/anaconda3/envs/tensor/lib/python3.6/site-packages/seaborn/distributions.py:2619: FutureWarning: `distplot` is a deprecated function and will be removed in a future version. Please adapt your code to use either `displot` (a figure-level function with similar flexibility) or `histplot` (an axes-level function for histograms).\n",
      "  warnings.warn(msg, FutureWarning)\n"
     ]
    },
    {
     "data": {
      "text/plain": [
       "<AxesSubplot:ylabel='Density'>"
      ]
     },
     "execution_count": 59,
     "metadata": {},
     "output_type": "execute_result"
    },
    {
     "data": {
      "image/png": "[encoded data removed]",
      "text/plain": [
       "<Figure size 432x288 with 1 Axes>"
      ]
     },
     "metadata": {
      "needs_background": "light"
     },
     "output_type": "display_data"
    }
   ],
   "source": [
    "sns.distplot(pr_df[['LRet_12pm_OpenNext']], kde=False, color='red', bins=50)\n",
    "sns.distplot(pr_df[['EN_fit']], kde=False, color='blue', bins=50)\n",
    "sns.distplot(pr_df[['SVM_fit']], kde=False, color='green', bins=50)\n",
    "sns.distplot(pr_df[['stemmed-pred']], kde=True, color='orange', bins=50)"
   ]
  },
  {
   "cell_type": "code",
   "execution_count": 71,
   "id": "hollywood-wright",
   "metadata": {},
   "outputs": [],
   "source": [
    "df = pd.DataFrame([vect.get_feature_names(), regr.coef_]).T\n",
    "df.columns = ['word', 'coef']\n",
    "df['coef'] = np.float64(df['coef'])\n",
    "\n",
    "df = df.sort_values(['coef'])"
   ]
  },
  {
   "cell_type": "code",
   "execution_count": 72,
   "id": "corrected-museum",
   "metadata": {
    "scrolled": true
   },
   "outputs": [
    {
     "data": {
      "text/html": [
       "<div>\n",
       "<style scoped>\n",
       "    .dataframe tbody tr th:only-of-type {\n",
       "        vertical-align: middle;\n",
       "    }\n",
       "\n",
       "    .dataframe tbody tr th {\n",
       "        vertical-align: top;\n",
       "    }\n",
       "\n",
       "    .dataframe thead th {\n",
       "        text-align: right;\n",
       "    }\n",
       "</style>\n",
       "<table border=\"1\" class=\"dataframe\">\n",
       "  <thead>\n",
       "    <tr style=\"text-align: right;\">\n",
       "      <th></th>\n",
       "      <th>word</th>\n",
       "      <th>coef</th>\n",
       "    </tr>\n",
       "  </thead>\n",
       "  <tbody>\n",
       "    <tr>\n",
       "      <th>926</th>\n",
       "      <td>disappoint</td>\n",
       "      <td>-0.193340</td>\n",
       "    </tr>\n",
       "    <tr>\n",
       "      <th>1556</th>\n",
       "      <td>howev</td>\n",
       "      <td>-0.105632</td>\n",
       "    </tr>\n",
       "    <tr>\n",
       "      <th>548</th>\n",
       "      <td>challeng</td>\n",
       "      <td>-0.079786</td>\n",
       "    </tr>\n",
       "    <tr>\n",
       "      <th>2848</th>\n",
       "      <td>revis</td>\n",
       "      <td>-0.077399</td>\n",
       "    </tr>\n",
       "    <tr>\n",
       "      <th>704</th>\n",
       "      <td>confid</td>\n",
       "      <td>-0.062379</td>\n",
       "    </tr>\n",
       "    <tr>\n",
       "      <th>1917</th>\n",
       "      <td>lower</td>\n",
       "      <td>-0.062097</td>\n",
       "    </tr>\n",
       "    <tr>\n",
       "      <th>870</th>\n",
       "      <td>delay</td>\n",
       "      <td>-0.055345</td>\n",
       "    </tr>\n",
       "    <tr>\n",
       "      <th>851</th>\n",
       "      <td>declin</td>\n",
       "      <td>-0.051711</td>\n",
       "    </tr>\n",
       "    <tr>\n",
       "      <th>853</th>\n",
       "      <td>decreas</td>\n",
       "      <td>-0.044734</td>\n",
       "    </tr>\n",
       "    <tr>\n",
       "      <th>3299</th>\n",
       "      <td>term</td>\n",
       "      <td>-0.041035</td>\n",
       "    </tr>\n",
       "    <tr>\n",
       "      <th>1589</th>\n",
       "      <td>impact</td>\n",
       "      <td>-0.038063</td>\n",
       "    </tr>\n",
       "    <tr>\n",
       "      <th>2766</th>\n",
       "      <td>remain</td>\n",
       "      <td>-0.036478</td>\n",
       "    </tr>\n",
       "    <tr>\n",
       "      <th>245</th>\n",
       "      <td>august</td>\n",
       "      <td>-0.033027</td>\n",
       "    </tr>\n",
       "    <tr>\n",
       "      <th>2670</th>\n",
       "      <td>ramp</td>\n",
       "      <td>-0.032776</td>\n",
       "    </tr>\n",
       "    <tr>\n",
       "      <th>1161</th>\n",
       "      <td>expect</td>\n",
       "      <td>-0.032636</td>\n",
       "    </tr>\n",
       "    <tr>\n",
       "      <th>515</th>\n",
       "      <td>caus</td>\n",
       "      <td>-0.031786</td>\n",
       "    </tr>\n",
       "    <tr>\n",
       "      <th>3390</th>\n",
       "      <td>transit</td>\n",
       "      <td>-0.031695</td>\n",
       "    </tr>\n",
       "    <tr>\n",
       "      <th>727</th>\n",
       "      <td>consum</td>\n",
       "      <td>-0.027393</td>\n",
       "    </tr>\n",
       "    <tr>\n",
       "      <th>663</th>\n",
       "      <td>commerc</td>\n",
       "      <td>-0.025628</td>\n",
       "    </tr>\n",
       "    <tr>\n",
       "      <th>2285</th>\n",
       "      <td>number</td>\n",
       "      <td>-0.024275</td>\n",
       "    </tr>\n",
       "  </tbody>\n",
       "</table>\n",
       "</div>"
      ],
      "text/plain": [
       "            word      coef\n",
       "926   disappoint -0.193340\n",
       "1556       howev -0.105632\n",
       "548     challeng -0.079786\n",
       "2848       revis -0.077399\n",
       "704       confid -0.062379\n",
       "1917       lower -0.062097\n",
       "870        delay -0.055345\n",
       "851       declin -0.051711\n",
       "853      decreas -0.044734\n",
       "3299        term -0.041035\n",
       "1589      impact -0.038063\n",
       "2766      remain -0.036478\n",
       "245       august -0.033027\n",
       "2670        ramp -0.032776\n",
       "1161      expect -0.032636\n",
       "515         caus -0.031786\n",
       "3390     transit -0.031695\n",
       "727       consum -0.027393\n",
       "663      commerc -0.025628\n",
       "2285      number -0.024275"
      ]
     },
     "execution_count": 72,
     "metadata": {},
     "output_type": "execute_result"
    }
   ],
   "source": [
    "df.head(20)"
   ]
  },
  {
   "cell_type": "code",
   "execution_count": 60,
   "id": "considered-kernel",
   "metadata": {},
   "outputs": [
    {
     "data": {
      "text/plain": [
       "(3671,)"
      ]
     },
     "execution_count": 60,
     "metadata": {},
     "output_type": "execute_result"
    }
   ],
   "source": [
    "dense = np.squeeze(np.asarray(SVM_regr.coef_.todense()))\n",
    "dense.shape\n",
    "#flat = dense.flatten()\n",
    "#new = np.squeeze(flat)"
   ]
  },
  {
   "cell_type": "code",
   "execution_count": 73,
   "id": "legitimate-calculator",
   "metadata": {},
   "outputs": [],
   "source": [
    "dff = pd.DataFrame([vect.get_feature_names(), np.squeeze(np.asarray(SVM_regr.coef_.todense()))]).T\n",
    "dff.columns = ['word', 'coef']\n",
    "dff['coef'] = np.float64(dff['coef'])\n",
    "\n",
    "dff = dff.sort_values(['coef'])"
   ]
  },
  {
   "cell_type": "code",
   "execution_count": 74,
   "id": "scientific-congo",
   "metadata": {},
   "outputs": [
    {
     "data": {
      "text/html": [
       "<div>\n",
       "<style scoped>\n",
       "    .dataframe tbody tr th:only-of-type {\n",
       "        vertical-align: middle;\n",
       "    }\n",
       "\n",
       "    .dataframe tbody tr th {\n",
       "        vertical-align: top;\n",
       "    }\n",
       "\n",
       "    .dataframe thead th {\n",
       "        text-align: right;\n",
       "    }\n",
       "</style>\n",
       "<table border=\"1\" class=\"dataframe\">\n",
       "  <thead>\n",
       "    <tr style=\"text-align: right;\">\n",
       "      <th></th>\n",
       "      <th>word</th>\n",
       "      <th>coef</th>\n",
       "    </tr>\n",
       "  </thead>\n",
       "  <tbody>\n",
       "    <tr>\n",
       "      <th>926</th>\n",
       "      <td>disappoint</td>\n",
       "      <td>-0.271842</td>\n",
       "    </tr>\n",
       "    <tr>\n",
       "      <th>2842</th>\n",
       "      <td>retroact</td>\n",
       "      <td>-0.262894</td>\n",
       "    </tr>\n",
       "    <tr>\n",
       "      <th>80</th>\n",
       "      <td>agenda</td>\n",
       "      <td>-0.255656</td>\n",
       "    </tr>\n",
       "    <tr>\n",
       "      <th>2275</th>\n",
       "      <td>notwithstand</td>\n",
       "      <td>-0.239770</td>\n",
       "    </tr>\n",
       "    <tr>\n",
       "      <th>651</th>\n",
       "      <td>colo</td>\n",
       "      <td>-0.235221</td>\n",
       "    </tr>\n",
       "    <tr>\n",
       "      <th>1642</th>\n",
       "      <td>inspect</td>\n",
       "      <td>-0.234252</td>\n",
       "    </tr>\n",
       "    <tr>\n",
       "      <th>1556</th>\n",
       "      <td>howev</td>\n",
       "      <td>-0.232668</td>\n",
       "    </tr>\n",
       "    <tr>\n",
       "      <th>1719</th>\n",
       "      <td>jet</td>\n",
       "      <td>-0.218272</td>\n",
       "    </tr>\n",
       "    <tr>\n",
       "      <th>3063</th>\n",
       "      <td>slide</td>\n",
       "      <td>-0.216781</td>\n",
       "    </tr>\n",
       "    <tr>\n",
       "      <th>2601</th>\n",
       "      <td>prolong</td>\n",
       "      <td>-0.216482</td>\n",
       "    </tr>\n",
       "    <tr>\n",
       "      <th>2109</th>\n",
       "      <td>minut</td>\n",
       "      <td>-0.209372</td>\n",
       "    </tr>\n",
       "    <tr>\n",
       "      <th>1753</th>\n",
       "      <td>kathleen</td>\n",
       "      <td>-0.206759</td>\n",
       "    </tr>\n",
       "    <tr>\n",
       "      <th>3535</th>\n",
       "      <td>viejo</td>\n",
       "      <td>-0.199409</td>\n",
       "    </tr>\n",
       "    <tr>\n",
       "      <th>1495</th>\n",
       "      <td>healthier</td>\n",
       "      <td>-0.199317</td>\n",
       "    </tr>\n",
       "    <tr>\n",
       "      <th>3380</th>\n",
       "      <td>trademark</td>\n",
       "      <td>-0.198686</td>\n",
       "    </tr>\n",
       "    <tr>\n",
       "      <th>3114</th>\n",
       "      <td>speed</td>\n",
       "      <td>-0.198357</td>\n",
       "    </tr>\n",
       "    <tr>\n",
       "      <th>2367</th>\n",
       "      <td>outflow</td>\n",
       "      <td>-0.193961</td>\n",
       "    </tr>\n",
       "    <tr>\n",
       "      <th>867</th>\n",
       "      <td>degre</td>\n",
       "      <td>-0.191107</td>\n",
       "    </tr>\n",
       "    <tr>\n",
       "      <th>1333</th>\n",
       "      <td>freeman</td>\n",
       "      <td>-0.187417</td>\n",
       "    </tr>\n",
       "    <tr>\n",
       "      <th>635</th>\n",
       "      <td>code</td>\n",
       "      <td>-0.186755</td>\n",
       "    </tr>\n",
       "  </tbody>\n",
       "</table>\n",
       "</div>"
      ],
      "text/plain": [
       "              word      coef\n",
       "926     disappoint -0.271842\n",
       "2842      retroact -0.262894\n",
       "80          agenda -0.255656\n",
       "2275  notwithstand -0.239770\n",
       "651           colo -0.235221\n",
       "1642       inspect -0.234252\n",
       "1556         howev -0.232668\n",
       "1719           jet -0.218272\n",
       "3063         slide -0.216781\n",
       "2601       prolong -0.216482\n",
       "2109         minut -0.209372\n",
       "1753      kathleen -0.206759\n",
       "3535         viejo -0.199409\n",
       "1495     healthier -0.199317\n",
       "3380     trademark -0.198686\n",
       "3114         speed -0.198357\n",
       "2367       outflow -0.193961\n",
       "867          degre -0.191107\n",
       "1333       freeman -0.187417\n",
       "635           code -0.186755"
      ]
     },
     "execution_count": 74,
     "metadata": {},
     "output_type": "execute_result"
    }
   ],
   "source": [
    "dff.head(20)"
   ]
  }
 ],
 "metadata": {
  "kernelspec": {
   "display_name": "Python 3 (ipykernel)",
   "language": "python",
   "name": "python3"
  },
  "language_info": {
   "codemirror_mode": {
    "name": "ipython",
    "version": 3
   },
   "file_extension": ".py",
   "mimetype": "text/x-python",
   "name": "python",
   "nbconvert_exporter": "python",
   "pygments_lexer": "ipython3",
   "version": "3.9.1"
  }
 },
 "nbformat": 4,
 "nbformat_minor": 5
}
