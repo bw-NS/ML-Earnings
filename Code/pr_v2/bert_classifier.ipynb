{
 "cells": [
  {
   "cell_type": "code",
   "execution_count": 1,
   "metadata": {},
   "outputs": [],
   "source": [
    "import util\n",
    "import warnings\n",
    "import random\n",
    "import numpy as np\n",
    "import torch\n",
    "import pandas as pd"
   ]
  },
  {
   "cell_type": "code",
   "execution_count": 2,
   "metadata": {},
   "outputs": [],
   "source": [
    "seed_val = 13\n",
    "random.seed(seed_val)\n",
    "np.random.seed(seed_val)\n",
    "torch.manual_seed(seed_val)\n",
    "torch.cuda.manual_seed_all(seed_val)"
   ]
  },
  {
   "cell_type": "code",
   "execution_count": 3,
   "metadata": {},
   "outputs": [],
   "source": [
    "settings = util.parse_settings()\n",
    "warnings.filterwarnings(\"ignore\", category =UserWarning)"
   ]
  },
  {
   "cell_type": "code",
   "execution_count": 4,
   "metadata": {},
   "outputs": [
    {
     "data": {
      "text/html": [
       "<div>\n",
       "<style scoped>\n",
       "    .dataframe tbody tr th:only-of-type {\n",
       "        vertical-align: middle;\n",
       "    }\n",
       "\n",
       "    .dataframe tbody tr th {\n",
       "        vertical-align: top;\n",
       "    }\n",
       "\n",
       "    .dataframe thead th {\n",
       "        text-align: right;\n",
       "    }\n",
       "</style>\n",
       "<table border=\"1\" class=\"dataframe\">\n",
       "  <thead>\n",
       "    <tr style=\"text-align: right;\">\n",
       "      <th></th>\n",
       "      <th>date</th>\n",
       "      <th>permno</th>\n",
       "      <th>GVKEY</th>\n",
       "      <th>CNAME</th>\n",
       "      <th>IBES_Timestamp</th>\n",
       "      <th>IBES_Actual_Date</th>\n",
       "      <th>Year</th>\n",
       "      <th>Quarter</th>\n",
       "      <th>rdq</th>\n",
       "      <th>SUE_Med</th>\n",
       "      <th>...</th>\n",
       "      <th>cik</th>\n",
       "      <th>filename</th>\n",
       "      <th>text</th>\n",
       "      <th>text_no_sw</th>\n",
       "      <th>text_stemmed</th>\n",
       "      <th>text_short</th>\n",
       "      <th>text_no_sw_lr_sent</th>\n",
       "      <th>text_short_lr_sent</th>\n",
       "      <th>text_no_sw_pr_sent</th>\n",
       "      <th>text_short_pr_sent</th>\n",
       "    </tr>\n",
       "  </thead>\n",
       "  <tbody>\n",
       "    <tr>\n",
       "      <th>0</th>\n",
       "      <td>2003-01-03</td>\n",
       "      <td>19502</td>\n",
       "      <td>11264</td>\n",
       "      <td>WALGREEN CO</td>\n",
       "      <td>2003-01-03 08:55:00</td>\n",
       "      <td>2003-01-03</td>\n",
       "      <td>2003</td>\n",
       "      <td>1</td>\n",
       "      <td>2003-01-03</td>\n",
       "      <td>0.000346</td>\n",
       "      <td>...</td>\n",
       "      <td>1618921</td>\n",
       "      <td>None</td>\n",
       "      <td>None</td>\n",
       "      <td>None</td>\n",
       "      <td>None</td>\n",
       "      <td>None</td>\n",
       "      <td>NaN</td>\n",
       "      <td>NaN</td>\n",
       "      <td>NaN</td>\n",
       "      <td>NaN</td>\n",
       "    </tr>\n",
       "    <tr>\n",
       "      <th>1</th>\n",
       "      <td>2003-01-03</td>\n",
       "      <td>79255</td>\n",
       "      <td>28524</td>\n",
       "      <td>DELTA &amp; PINE LND</td>\n",
       "      <td>2003-01-03 08:09:00</td>\n",
       "      <td>2003-01-03</td>\n",
       "      <td>2003</td>\n",
       "      <td>1</td>\n",
       "      <td>2003-01-03</td>\n",
       "      <td>-0.003868</td>\n",
       "      <td>...</td>\n",
       "      <td>902277</td>\n",
       "      <td>None</td>\n",
       "      <td>None</td>\n",
       "      <td>None</td>\n",
       "      <td>None</td>\n",
       "      <td>None</td>\n",
       "      <td>NaN</td>\n",
       "      <td>NaN</td>\n",
       "      <td>NaN</td>\n",
       "      <td>NaN</td>\n",
       "    </tr>\n",
       "    <tr>\n",
       "      <th>2</th>\n",
       "      <td>2003-01-07</td>\n",
       "      <td>69796</td>\n",
       "      <td>2710</td>\n",
       "      <td>CONSTELLAT BRAN</td>\n",
       "      <td>2003-01-06 16:31:00</td>\n",
       "      <td>2003-01-06</td>\n",
       "      <td>2003</td>\n",
       "      <td>1</td>\n",
       "      <td>2003-01-06</td>\n",
       "      <td>0.000213</td>\n",
       "      <td>...</td>\n",
       "      <td>16918</td>\n",
       "      <td>None</td>\n",
       "      <td>None</td>\n",
       "      <td>None</td>\n",
       "      <td>None</td>\n",
       "      <td>None</td>\n",
       "      <td>NaN</td>\n",
       "      <td>NaN</td>\n",
       "      <td>NaN</td>\n",
       "      <td>NaN</td>\n",
       "    </tr>\n",
       "    <tr>\n",
       "      <th>3</th>\n",
       "      <td>2003-01-07</td>\n",
       "      <td>76568</td>\n",
       "      <td>23697</td>\n",
       "      <td>SONIC CORP</td>\n",
       "      <td>2003-01-06 17:56:00</td>\n",
       "      <td>2003-01-06</td>\n",
       "      <td>2003</td>\n",
       "      <td>1</td>\n",
       "      <td>2003-01-06</td>\n",
       "      <td>0.000000</td>\n",
       "      <td>...</td>\n",
       "      <td>868611</td>\n",
       "      <td>None</td>\n",
       "      <td>None</td>\n",
       "      <td>None</td>\n",
       "      <td>None</td>\n",
       "      <td>None</td>\n",
       "      <td>NaN</td>\n",
       "      <td>NaN</td>\n",
       "      <td>NaN</td>\n",
       "      <td>NaN</td>\n",
       "    </tr>\n",
       "    <tr>\n",
       "      <th>4</th>\n",
       "      <td>2003-01-07</td>\n",
       "      <td>86822</td>\n",
       "      <td>119574</td>\n",
       "      <td>EXTREME NETWKS</td>\n",
       "      <td>2003-01-06 16:44:00</td>\n",
       "      <td>2003-01-06</td>\n",
       "      <td>2003</td>\n",
       "      <td>1</td>\n",
       "      <td>2003-01-06</td>\n",
       "      <td>-0.003003</td>\n",
       "      <td>...</td>\n",
       "      <td>1078271</td>\n",
       "      <td>86822_20030106_0.html</td>\n",
       "      <td>dated january extreme networks reports q fy fi...</td>\n",
       "      <td>dated january extreme networks reports financi...</td>\n",
       "      <td>date januari extrem network report financi res...</td>\n",
       "      <td>dated january extreme networks reports q fy fi...</td>\n",
       "      <td>0.012987</td>\n",
       "      <td>-0.01</td>\n",
       "      <td>0.01039</td>\n",
       "      <td>0.01</td>\n",
       "    </tr>\n",
       "  </tbody>\n",
       "</table>\n",
       "<p>5 rows × 62 columns</p>\n",
       "</div>"
      ],
      "text/plain": [
       "        date  permno   GVKEY             CNAME      IBES_Timestamp  \\\n",
       "0 2003-01-03   19502   11264       WALGREEN CO 2003-01-03 08:55:00   \n",
       "1 2003-01-03   79255   28524  DELTA & PINE LND 2003-01-03 08:09:00   \n",
       "2 2003-01-07   69796    2710   CONSTELLAT BRAN 2003-01-06 16:31:00   \n",
       "3 2003-01-07   76568   23697        SONIC CORP 2003-01-06 17:56:00   \n",
       "4 2003-01-07   86822  119574    EXTREME NETWKS 2003-01-06 16:44:00   \n",
       "\n",
       "  IBES_Actual_Date  Year  Quarter        rdq   SUE_Med  ...      cik  \\\n",
       "0       2003-01-03  2003        1 2003-01-03  0.000346  ...  1618921   \n",
       "1       2003-01-03  2003        1 2003-01-03 -0.003868  ...   902277   \n",
       "2       2003-01-06  2003        1 2003-01-06  0.000213  ...    16918   \n",
       "3       2003-01-06  2003        1 2003-01-06  0.000000  ...   868611   \n",
       "4       2003-01-06  2003        1 2003-01-06 -0.003003  ...  1078271   \n",
       "\n",
       "                filename                                               text  \\\n",
       "0                   None                                               None   \n",
       "1                   None                                               None   \n",
       "2                   None                                               None   \n",
       "3                   None                                               None   \n",
       "4  86822_20030106_0.html  dated january extreme networks reports q fy fi...   \n",
       "\n",
       "                                          text_no_sw  \\\n",
       "0                                               None   \n",
       "1                                               None   \n",
       "2                                               None   \n",
       "3                                               None   \n",
       "4  dated january extreme networks reports financi...   \n",
       "\n",
       "                                        text_stemmed  \\\n",
       "0                                               None   \n",
       "1                                               None   \n",
       "2                                               None   \n",
       "3                                               None   \n",
       "4  date januari extrem network report financi res...   \n",
       "\n",
       "                                          text_short  text_no_sw_lr_sent  \\\n",
       "0                                               None                 NaN   \n",
       "1                                               None                 NaN   \n",
       "2                                               None                 NaN   \n",
       "3                                               None                 NaN   \n",
       "4  dated january extreme networks reports q fy fi...            0.012987   \n",
       "\n",
       "   text_short_lr_sent  text_no_sw_pr_sent  text_short_pr_sent  \n",
       "0                 NaN                 NaN                 NaN  \n",
       "1                 NaN                 NaN                 NaN  \n",
       "2                 NaN                 NaN                 NaN  \n",
       "3                 NaN                 NaN                 NaN  \n",
       "4               -0.01             0.01039                0.01  \n",
       "\n",
       "[5 rows x 62 columns]"
      ]
     },
     "execution_count": 4,
     "metadata": {},
     "output_type": "execute_result"
    }
   ],
   "source": [
    "df = pd.read_parquet(settings['parquet'])\n",
    "df.head(5)"
   ]
  },
  {
   "cell_type": "code",
   "execution_count": 5,
   "metadata": {},
   "outputs": [],
   "source": [
    "df = df.sort_values(by = settings['order'], ascending=True)\n",
    "df = df[df[settings[\"text\"]].notnull()][df[settings[\"target\"]].notnull()]\n",
    "\n",
    "model_name = \"finbert\"\n",
    "#df = df[df['sp500'] == 1][df['Year']>=2003][df['Year']<=2006]\n",
    "df = df[df['sp500'] == 1]\n",
    "df['label'] = (df[settings[\"target\"]] >=0).astype('int')\n",
    "#df['label'] = df['sign']\n",
    "df['text'] = df[settings[\"text\"]]"
   ]
  },
  {
   "cell_type": "code",
   "execution_count": null,
   "metadata": {},
   "outputs": [],
   "source": []
  },
  {
   "cell_type": "code",
   "execution_count": 6,
   "metadata": {},
   "outputs": [
    {
     "data": {
      "text/plain": [
       "26        0\n",
       "46        0\n",
       "93        1\n",
       "66        0\n",
       "64        1\n",
       "         ..\n",
       "171159    0\n",
       "171160    0\n",
       "171140    0\n",
       "171175    1\n",
       "171170    1\n",
       "Name: label, Length: 26788, dtype: int32"
      ]
     },
     "execution_count": 6,
     "metadata": {},
     "output_type": "execute_result"
    }
   ],
   "source": [
    "df['label']"
   ]
  },
  {
   "cell_type": "code",
   "execution_count": 7,
   "metadata": {},
   "outputs": [
    {
     "data": {
      "text/plain": [
       "((18751, 2), (8037, 2))"
      ]
     },
     "execution_count": 7,
     "metadata": {},
     "output_type": "execute_result"
    }
   ],
   "source": [
    "train_df = df.iloc[:int(df.shape[0]*0.7)]\n",
    "test_df = df[int(df.shape[0]*0.7):]\n",
    "train_df = train_df.reset_index()[['label', 'text']]\n",
    "test_df = test_df.reset_index()[['label', 'text']]\n",
    "train_df.shape, test_df.shape"
   ]
  },
  {
   "cell_type": "code",
   "execution_count": 8,
   "metadata": {},
   "outputs": [],
   "source": [
    "from datasets import Dataset\n",
    "train_ds = Dataset.from_pandas(train_df)\n",
    "test_ds = Dataset.from_pandas(test_df)"
   ]
  },
  {
   "cell_type": "code",
   "execution_count": 9,
   "metadata": {},
   "outputs": [
    {
     "name": "stderr",
     "output_type": "stream",
     "text": [
      "100%|██████████| 19/19 [00:30<00:00,  1.62s/ba]\n",
      "100%|██████████| 9/9 [00:16<00:00,  1.85s/ba]\n"
     ]
    }
   ],
   "source": [
    "from transformers import AutoTokenizer\n",
    "\n",
    "tokenizer = AutoTokenizer.from_pretrained(\"ProsusAI/finbert\")\n",
    "\n",
    "\n",
    "def tokenize_function(examples):\n",
    "    return tokenizer(examples[\"text\"], padding=\"max_length\", truncation=True)\n",
    "\n",
    "\n",
    "train_tokenized_datasets = train_ds.map(tokenize_function, batched=True)\n",
    "test_tokenized_datasets = test_ds.map(tokenize_function, batched=True)"
   ]
  },
  {
   "cell_type": "code",
   "execution_count": 40,
   "metadata": {},
   "outputs": [
    {
     "name": "stderr",
     "output_type": "stream",
     "text": [
      "loading configuration file https://huggingface.co/ProsusAI/finbert/resolve/main/config.json from cache at C:\\Users\\Steve/.cache\\huggingface\\transformers\\2120f4f96b5830e5a91fe94d242471b0133b0976c8d6e081594ab837ac5f17bc.ef97278c578016c8bb785f15296476b12eae86423097fed78719d1c8197a3430\n",
      "Model config BertConfig {\n",
      "  \"_name_or_path\": \"ProsusAI/finbert\",\n",
      "  \"architectures\": [\n",
      "    \"BertForSequenceClassification\"\n",
      "  ],\n",
      "  \"attention_probs_dropout_prob\": 0.1,\n",
      "  \"classifier_dropout\": null,\n",
      "  \"gradient_checkpointing\": false,\n",
      "  \"hidden_act\": \"gelu\",\n",
      "  \"hidden_dropout_prob\": 0.1,\n",
      "  \"hidden_size\": 768,\n",
      "  \"id2label\": {\n",
      "    \"0\": \"positive\",\n",
      "    \"1\": \"negative\",\n",
      "    \"2\": \"neutral\"\n",
      "  },\n",
      "  \"initializer_range\": 0.02,\n",
      "  \"intermediate_size\": 3072,\n",
      "  \"label2id\": {\n",
      "    \"negative\": 1,\n",
      "    \"neutral\": 2,\n",
      "    \"positive\": 0\n",
      "  },\n",
      "  \"layer_norm_eps\": 1e-12,\n",
      "  \"max_position_embeddings\": 512,\n",
      "  \"model_type\": \"bert\",\n",
      "  \"num_attention_heads\": 12,\n",
      "  \"num_hidden_layers\": 12,\n",
      "  \"pad_token_id\": 0,\n",
      "  \"position_embedding_type\": \"absolute\",\n",
      "  \"transformers_version\": \"4.15.0\",\n",
      "  \"type_vocab_size\": 2,\n",
      "  \"use_cache\": true,\n",
      "  \"vocab_size\": 30522\n",
      "}\n",
      "\n",
      "loading weights file https://huggingface.co/ProsusAI/finbert/resolve/main/pytorch_model.bin from cache at C:\\Users\\Steve/.cache\\huggingface\\transformers\\b3ba5be9f12905cef8d1d18af435dfd568d75466fae4a117a4f20ed5faadd3e3.8764ec40d33a40810fe5d2c1e864945dcf7affafd797ed8ef1b71392bfcf8562\n",
      "All model checkpoint weights were used when initializing BertForSequenceClassification.\n",
      "\n",
      "All the weights of BertForSequenceClassification were initialized from the model checkpoint at ProsusAI/finbert.\n",
      "If your task is similar to the task the model of the checkpoint was trained on, you can already use BertForSequenceClassification for predictions without further training.\n"
     ]
    }
   ],
   "source": [
    "from transformers import AutoModelForSequenceClassification\n",
    "\n",
    "model = AutoModelForSequenceClassification.from_pretrained(\"ProsusAI/finbert\")"
   ]
  },
  {
   "cell_type": "code",
   "execution_count": 46,
   "metadata": {},
   "outputs": [],
   "source": [
    "import torch.nn as nn\n",
    "model.num_labels = 2 \n",
    "model.classifier = nn.Linear(768,2)"
   ]
  },
  {
   "cell_type": "code",
   "execution_count": 47,
   "metadata": {},
   "outputs": [],
   "source": [
    "model.classifier = model.classifier = nn.Sequential(\n",
    "    nn.Linear(768, 512), \n",
    "    nn.ReLU(),\n",
    "    nn.Linear(512, 256),\n",
    "    nn.ReLU(),\n",
    "    nn.Linear(256, 100),\n",
    "    nn.ReLU(),\n",
    "    nn.Linear(100, 2)\n",
    ")"
   ]
  },
  {
   "cell_type": "code",
   "execution_count": 66,
   "metadata": {},
   "outputs": [
    {
     "name": "stderr",
     "output_type": "stream",
     "text": [
      "The following columns in the training set  don't have a corresponding argument in `BertForSequenceClassification.forward` and have been ignored: text.\n",
      "***** Running training *****\n",
      "  Num examples = 18751\n",
      "  Num Epochs = 5\n",
      "  Instantaneous batch size per device = 2\n",
      "  Total train batch size (w. parallel, distributed & accumulation) = 2\n",
      "  Gradient Accumulation steps = 1\n",
      "  Total optimization steps = 46880\n",
      "  0%|          | 0/46880 [00:26<?, ?it/s]\n",
      "\n",
      "\u001b[A                                                   Saving model checkpoint to test_trainer_class_tuned_4\\checkpoint-5000\n",
      "Configuration saved in test_trainer_class_tuned_4\\checkpoint-5000\\config.json\n"
     ]
    },
    {
     "name": "stdout",
     "output_type": "stream",
     "text": [
      "{'loss': 0.6954, 'learning_rate': 8.93344709897611e-05, 'epoch': 0.53}\n"
     ]
    },
    {
     "name": "stderr",
     "output_type": "stream",
     "text": [
      "Model weights saved in test_trainer_class_tuned_4\\checkpoint-5000\\pytorch_model.bin\n",
      "The following columns in the evaluation set  don't have a corresponding argument in `BertForSequenceClassification.forward` and have been ignored: text.\n",
      "***** Running Evaluation *****\n",
      "  Num examples = 8037\n",
      "  Batch size = 2\n",
      "100%|██████████| 4019/4019 [02:05<00:00, 31.83it/s]\n",
      "                                                      \n"
     ]
    },
    {
     "name": "stdout",
     "output_type": "stream",
     "text": [
      "{'eval_loss': 0.692639172077179, 'eval_accuracy': 0.5164862510887147, 'eval_runtime': 125.7784, 'eval_samples_per_second': 63.898, 'eval_steps_per_second': 31.953, 'epoch': 1.0}\n"
     ]
    },
    {
     "name": "stderr",
     "output_type": "stream",
     "text": [
      "\n",
      "\u001b[A                                                    Saving model checkpoint to test_trainer_class_tuned_4\\checkpoint-10000\n",
      "Configuration saved in test_trainer_class_tuned_4\\checkpoint-10000\\config.json\n"
     ]
    },
    {
     "name": "stdout",
     "output_type": "stream",
     "text": [
      "{'loss': 0.694, 'learning_rate': 7.866894197952219e-05, 'epoch': 1.07}\n"
     ]
    },
    {
     "name": "stderr",
     "output_type": "stream",
     "text": [
      "Model weights saved in test_trainer_class_tuned_4\\checkpoint-10000\\pytorch_model.bin\n",
      "\n",
      "\u001b[A                                                    Saving model checkpoint to test_trainer_class_tuned_4\\checkpoint-15000\n",
      "Configuration saved in test_trainer_class_tuned_4\\checkpoint-15000\\config.json\n"
     ]
    },
    {
     "name": "stdout",
     "output_type": "stream",
     "text": [
      "{'loss': 0.6936, 'learning_rate': 6.800341296928327e-05, 'epoch': 1.6}\n"
     ]
    },
    {
     "name": "stderr",
     "output_type": "stream",
     "text": [
      "Model weights saved in test_trainer_class_tuned_4\\checkpoint-15000\\pytorch_model.bin\n",
      "The following columns in the evaluation set  don't have a corresponding argument in `BertForSequenceClassification.forward` and have been ignored: text.\n",
      "***** Running Evaluation *****\n",
      "  Num examples = 8037\n",
      "  Batch size = 2\n",
      "100%|█████████▉| 4017/4019 [01:37<00:00, 41.22it/s]\n",
      "                                                     "
     ]
    },
    {
     "name": "stdout",
     "output_type": "stream",
     "text": [
      "{'eval_loss': 0.6930135488510132, 'eval_accuracy': 0.5164862510887147, 'eval_runtime': 97.7947, 'eval_samples_per_second': 82.182, 'eval_steps_per_second': 41.096, 'epoch': 2.0}\n"
     ]
    },
    {
     "name": "stderr",
     "output_type": "stream",
     "text": []
    }
   ],
   "source": [
    "trainer.train()"
   ]
  },
  {
   "cell_type": "code",
   "execution_count": null,
   "metadata": {},
   "outputs": [
    {
     "name": "stderr",
     "output_type": "stream",
     "text": [
      "The following columns in the test set  don't have a corresponding argument in `BertForSequenceClassification.forward` and have been ignored: text.\n",
      "***** Running Prediction *****\n",
      "  Num examples = 18751\n",
      "  Batch size = 2\n",
      "100%|█████████▉| 9372/9376 [03:19<00:00, 46.93it/s]"
     ]
    },
    {
     "data": {
      "text/plain": [
       "PredictionOutput(predictions=array([[-0.004141  ,  0.08265184],\n",
       "       [-0.0041481 ,  0.08266003],\n",
       "       [-0.00415605,  0.08265426],\n",
       "       ...,\n",
       "       [-0.00414719,  0.08265813],\n",
       "       [-0.00414813,  0.08265999],\n",
       "       [-0.00415218,  0.08265587]], dtype=float32), label_ids=array([1, 1, 1, ..., 0, 1, 0], dtype=int64), metrics={'test_loss': 0.6928921341896057, 'test_accuracy': 0.5137859314169911, 'test_runtime': 199.8976, 'test_samples_per_second': 93.803, 'test_steps_per_second': 46.904})"
      ]
     },
     "execution_count": 38,
     "metadata": {},
     "output_type": "execute_result"
    },
    {
     "name": "stderr",
     "output_type": "stream",
     "text": [
      "100%|██████████| 9376/9376 [03:36<00:00, 46.93it/s]"
     ]
    }
   ],
   "source": [
    "trainer.predict(train_tokenized_datasets)"
   ]
  },
  {
   "cell_type": "code",
   "execution_count": 29,
   "metadata": {},
   "outputs": [],
   "source": [
    "train_tokenized_datasets = train_tokenized_datasets.shuffle(seed=42)\n",
    "test_tokenized_datasets = test_tokenized_datasets.shuffle(seed=42)"
   ]
  },
  {
   "cell_type": "code",
   "execution_count": 58,
   "metadata": {},
   "outputs": [
    {
     "name": "stderr",
     "output_type": "stream",
     "text": [
      "PyTorch: setting up devices\n"
     ]
    }
   ],
   "source": [
    "from transformers import TrainingArguments\n",
    "\n",
    "training_args = TrainingArguments(output_dir=\"test_trainer_class_tuned_4\", evaluation_strategy=\"epoch\",per_device_train_batch_size=2, per_device_eval_batch_size=2, num_train_epochs=5, report_to=\"all\",\n",
    "                                logging_steps=5000, save_steps=5000, weight_decay=0.2, learning_rate=1e-4\n",
    "\n",
    ")"
   ]
  },
  {
   "cell_type": "code",
   "execution_count": 43,
   "metadata": {},
   "outputs": [],
   "source": [
    "from datasets import load_metric\n",
    "#from sklearn.metrics import r2_score\n",
    "metric = load_metric('accuracy')\n",
    "def compute_metrics(eval_pred):\n",
    "    logits, labels = eval_pred\n",
    "    logits = np.argmax(logits, axis=1)\n",
    "    return metric.compute(predictions=logits, references=labels)"
   ]
  },
  {
   "cell_type": "code",
   "execution_count": 54,
   "metadata": {},
   "outputs": [],
   "source": [
    "from transformers import Trainer\n",
    "trainer = Trainer(\n",
    "     model=model,\n",
    "     args=training_args,\n",
    "     train_dataset=train_tokenized_datasets,\n",
    "     eval_dataset=test_tokenized_datasets,\n",
    "     compute_metrics=compute_metrics,\n",
    ")"
   ]
  },
  {
   "cell_type": "code",
   "execution_count": 65,
   "metadata": {},
   "outputs": [
    {
     "data": {
      "text/plain": [
       "128"
      ]
     },
     "execution_count": 65,
     "metadata": {},
     "output_type": "execute_result"
    }
   ],
   "source": [
    "torch.cuda.empty_cache()\n",
    "torch.cuda.memory_summary()\n",
    "import gc\n",
    "gc.collect()\n"
   ]
  },
  {
   "cell_type": "code",
   "execution_count": 22,
   "metadata": {},
   "outputs": [
    {
     "name": "stderr",
     "output_type": "stream",
     "text": [
      "The following columns in the training set  don't have a corresponding argument in `BertForSequenceClassification.forward` and have been ignored: text.\n",
      "***** Running training *****\n",
      "  Num examples = 18751\n",
      "  Num Epochs = 5\n",
      "  Instantaneous batch size per device = 2\n",
      "  Total train batch size (w. parallel, distributed & accumulation) = 2\n",
      "  Gradient Accumulation steps = 1\n",
      "  Total optimization steps = 46880\n",
      "  1%|          | 500/46880 [00:48<1:03:54, 12.09it/s]Saving model checkpoint to test_trainer_class_1\\checkpoint-500\n",
      "Configuration saved in test_trainer_class_1\\checkpoint-500\\config.json\n"
     ]
    },
    {
     "name": "stdout",
     "output_type": "stream",
     "text": [
      "{'loss': 0.6852, 'learning_rate': 4.946672354948806e-05, 'epoch': 0.05}\n"
     ]
    },
    {
     "name": "stderr",
     "output_type": "stream",
     "text": [
      "Model weights saved in test_trainer_class_1\\checkpoint-500\\pytorch_model.bin\n",
      "  2%|▏         | 1000/46880 [01:38<1:15:28, 10.13it/s]Saving model checkpoint to test_trainer_class_1\\checkpoint-1000\n",
      "Configuration saved in test_trainer_class_1\\checkpoint-1000\\config.json\n"
     ]
    },
    {
     "name": "stdout",
     "output_type": "stream",
     "text": [
      "{'loss': 0.6954, 'learning_rate': 4.893344709897611e-05, 'epoch': 0.11}\n"
     ]
    },
    {
     "name": "stderr",
     "output_type": "stream",
     "text": [
      "Model weights saved in test_trainer_class_1\\checkpoint-1000\\pytorch_model.bin\n",
      "  3%|▎         | 1500/46880 [02:23<1:04:27, 11.73it/s]Saving model checkpoint to test_trainer_class_1\\checkpoint-1500\n",
      "Configuration saved in test_trainer_class_1\\checkpoint-1500\\config.json\n"
     ]
    },
    {
     "name": "stdout",
     "output_type": "stream",
     "text": [
      "{'loss': 0.6973, 'learning_rate': 4.840017064846417e-05, 'epoch': 0.16}\n"
     ]
    },
    {
     "name": "stderr",
     "output_type": "stream",
     "text": [
      "Model weights saved in test_trainer_class_1\\checkpoint-1500\\pytorch_model.bin\n",
      "  4%|▍         | 2000/46880 [03:11<1:08:34, 10.91it/s]Saving model checkpoint to test_trainer_class_1\\checkpoint-2000\n",
      "Configuration saved in test_trainer_class_1\\checkpoint-2000\\config.json\n"
     ]
    },
    {
     "name": "stdout",
     "output_type": "stream",
     "text": [
      "{'loss': 0.6967, 'learning_rate': 4.786689419795222e-05, 'epoch': 0.21}\n"
     ]
    },
    {
     "name": "stderr",
     "output_type": "stream",
     "text": [
      "Model weights saved in test_trainer_class_1\\checkpoint-2000\\pytorch_model.bin\n",
      "  5%|▌         | 2500/46880 [03:55<1:03:52, 11.58it/s]Saving model checkpoint to test_trainer_class_1\\checkpoint-2500\n",
      "Configuration saved in test_trainer_class_1\\checkpoint-2500\\config.json\n"
     ]
    },
    {
     "name": "stdout",
     "output_type": "stream",
     "text": [
      "{'loss': 0.6915, 'learning_rate': 4.7333617747440274e-05, 'epoch': 0.27}\n"
     ]
    },
    {
     "name": "stderr",
     "output_type": "stream",
     "text": [
      "Model weights saved in test_trainer_class_1\\checkpoint-2500\\pytorch_model.bin\n",
      "  6%|▋         | 3000/46880 [04:44<1:06:08, 11.06it/s]Saving model checkpoint to test_trainer_class_1\\checkpoint-3000\n",
      "Configuration saved in test_trainer_class_1\\checkpoint-3000\\config.json\n"
     ]
    },
    {
     "name": "stdout",
     "output_type": "stream",
     "text": [
      "{'loss': 0.6995, 'learning_rate': 4.680034129692833e-05, 'epoch': 0.32}\n"
     ]
    },
    {
     "name": "stderr",
     "output_type": "stream",
     "text": [
      "Model weights saved in test_trainer_class_1\\checkpoint-3000\\pytorch_model.bin\n",
      "  7%|▋         | 3500/46880 [05:31<1:03:30, 11.38it/s]Saving model checkpoint to test_trainer_class_1\\checkpoint-3500\n",
      "Configuration saved in test_trainer_class_1\\checkpoint-3500\\config.json\n"
     ]
    },
    {
     "name": "stdout",
     "output_type": "stream",
     "text": [
      "{'loss': 0.7009, 'learning_rate': 4.6267064846416386e-05, 'epoch': 0.37}\n"
     ]
    },
    {
     "name": "stderr",
     "output_type": "stream",
     "text": [
      "Model weights saved in test_trainer_class_1\\checkpoint-3500\\pytorch_model.bin\n",
      "  9%|▊         | 4000/46880 [06:20<1:02:18, 11.47it/s]Saving model checkpoint to test_trainer_class_1\\checkpoint-4000\n",
      "Configuration saved in test_trainer_class_1\\checkpoint-4000\\config.json\n"
     ]
    },
    {
     "name": "stdout",
     "output_type": "stream",
     "text": [
      "{'loss': 0.6949, 'learning_rate': 4.573378839590444e-05, 'epoch': 0.43}\n"
     ]
    },
    {
     "name": "stderr",
     "output_type": "stream",
     "text": [
      "Model weights saved in test_trainer_class_1\\checkpoint-4000\\pytorch_model.bin\n",
      " 10%|▉         | 4500/46880 [07:08<1:02:42, 11.26it/s]Saving model checkpoint to test_trainer_class_1\\checkpoint-4500\n",
      "Configuration saved in test_trainer_class_1\\checkpoint-4500\\config.json\n"
     ]
    },
    {
     "name": "stdout",
     "output_type": "stream",
     "text": [
      "{'loss': 0.6995, 'learning_rate': 4.520051194539249e-05, 'epoch': 0.48}\n"
     ]
    },
    {
     "name": "stderr",
     "output_type": "stream",
     "text": [
      "Model weights saved in test_trainer_class_1\\checkpoint-4500\\pytorch_model.bin\n",
      " 11%|█         | 5000/46880 [07:53<1:01:11, 11.41it/s]Saving model checkpoint to test_trainer_class_1\\checkpoint-5000\n",
      "Configuration saved in test_trainer_class_1\\checkpoint-5000\\config.json\n"
     ]
    },
    {
     "name": "stdout",
     "output_type": "stream",
     "text": [
      "{'loss': 0.7016, 'learning_rate': 4.466723549488055e-05, 'epoch': 0.53}\n"
     ]
    },
    {
     "name": "stderr",
     "output_type": "stream",
     "text": [
      "Model weights saved in test_trainer_class_1\\checkpoint-5000\\pytorch_model.bin\n",
      " 12%|█▏        | 5500/46880 [08:38<59:39, 11.56it/s]  Saving model checkpoint to test_trainer_class_1\\checkpoint-5500\n",
      "Configuration saved in test_trainer_class_1\\checkpoint-5500\\config.json\n"
     ]
    },
    {
     "name": "stdout",
     "output_type": "stream",
     "text": [
      "{'loss': 0.6931, 'learning_rate': 4.41339590443686e-05, 'epoch': 0.59}\n"
     ]
    },
    {
     "name": "stderr",
     "output_type": "stream",
     "text": [
      "Model weights saved in test_trainer_class_1\\checkpoint-5500\\pytorch_model.bin\n",
      " 13%|█▎        | 6000/46880 [09:22<57:38, 11.82it/s]  Saving model checkpoint to test_trainer_class_1\\checkpoint-6000\n",
      "Configuration saved in test_trainer_class_1\\checkpoint-6000\\config.json\n"
     ]
    },
    {
     "name": "stdout",
     "output_type": "stream",
     "text": [
      "{'loss': 0.697, 'learning_rate': 4.360068259385666e-05, 'epoch': 0.64}\n"
     ]
    },
    {
     "name": "stderr",
     "output_type": "stream",
     "text": [
      "Model weights saved in test_trainer_class_1\\checkpoint-6000\\pytorch_model.bin\n",
      " 14%|█▍        | 6500/46880 [10:06<53:40, 12.54it/s]  Saving model checkpoint to test_trainer_class_1\\checkpoint-6500\n",
      "Configuration saved in test_trainer_class_1\\checkpoint-6500\\config.json\n"
     ]
    },
    {
     "name": "stdout",
     "output_type": "stream",
     "text": [
      "{'loss': 0.7002, 'learning_rate': 4.306740614334471e-05, 'epoch': 0.69}\n"
     ]
    },
    {
     "name": "stderr",
     "output_type": "stream",
     "text": [
      "Model weights saved in test_trainer_class_1\\checkpoint-6500\\pytorch_model.bin\n",
      " 15%|█▍        | 7000/46880 [10:51<57:21, 11.59it/s]  Saving model checkpoint to test_trainer_class_1\\checkpoint-7000\n",
      "Configuration saved in test_trainer_class_1\\checkpoint-7000\\config.json\n"
     ]
    },
    {
     "name": "stdout",
     "output_type": "stream",
     "text": [
      "{'loss': 0.6999, 'learning_rate': 4.253412969283277e-05, 'epoch': 0.75}\n"
     ]
    },
    {
     "name": "stderr",
     "output_type": "stream",
     "text": [
      "Model weights saved in test_trainer_class_1\\checkpoint-7000\\pytorch_model.bin\n",
      " 16%|█▌        | 7500/46880 [11:35<55:07, 11.91it/s]  Saving model checkpoint to test_trainer_class_1\\checkpoint-7500\n",
      "Configuration saved in test_trainer_class_1\\checkpoint-7500\\config.json\n"
     ]
    },
    {
     "name": "stdout",
     "output_type": "stream",
     "text": [
      "{'loss': 0.6935, 'learning_rate': 4.200085324232082e-05, 'epoch': 0.8}\n"
     ]
    },
    {
     "name": "stderr",
     "output_type": "stream",
     "text": [
      "Model weights saved in test_trainer_class_1\\checkpoint-7500\\pytorch_model.bin\n",
      " 17%|█▋        | 8000/46880 [12:19<54:13, 11.95it/s]  Saving model checkpoint to test_trainer_class_1\\checkpoint-8000\n",
      "Configuration saved in test_trainer_class_1\\checkpoint-8000\\config.json\n"
     ]
    },
    {
     "name": "stdout",
     "output_type": "stream",
     "text": [
      "{'loss': 0.6997, 'learning_rate': 4.1467576791808876e-05, 'epoch': 0.85}\n"
     ]
    },
    {
     "name": "stderr",
     "output_type": "stream",
     "text": [
      "Model weights saved in test_trainer_class_1\\checkpoint-8000\\pytorch_model.bin\n",
      " 18%|█▊        | 8500/46880 [13:04<55:07, 11.60it/s]  Saving model checkpoint to test_trainer_class_1\\checkpoint-8500\n",
      "Configuration saved in test_trainer_class_1\\checkpoint-8500\\config.json\n"
     ]
    },
    {
     "name": "stdout",
     "output_type": "stream",
     "text": [
      "{'loss': 0.6989, 'learning_rate': 4.0934300341296936e-05, 'epoch': 0.91}\n"
     ]
    },
    {
     "name": "stderr",
     "output_type": "stream",
     "text": [
      "Model weights saved in test_trainer_class_1\\checkpoint-8500\\pytorch_model.bin\n",
      " 19%|█▉        | 9000/46880 [13:48<55:35, 11.36it/s]  Saving model checkpoint to test_trainer_class_1\\checkpoint-9000\n",
      "Configuration saved in test_trainer_class_1\\checkpoint-9000\\config.json\n"
     ]
    },
    {
     "name": "stdout",
     "output_type": "stream",
     "text": [
      "{'loss': 0.7029, 'learning_rate': 4.040102389078498e-05, 'epoch': 0.96}\n"
     ]
    },
    {
     "name": "stderr",
     "output_type": "stream",
     "text": [
      "Model weights saved in test_trainer_class_1\\checkpoint-9000\\pytorch_model.bin\n",
      " 20%|█▉        | 9375/46880 [14:23<53:24, 11.70it/s]  The following columns in the evaluation set  don't have a corresponding argument in `BertForSequenceClassification.forward` and have been ignored: text.\n",
      "***** Running Evaluation *****\n",
      "  Num examples = 8037\n",
      "  Batch size = 2\n",
      "                                                    \n",
      " 20%|██        | 9377/46880 [16:02<155:12:08, 14.90s/it]"
     ]
    },
    {
     "name": "stdout",
     "output_type": "stream",
     "text": [
      "{'eval_loss': 0.693274199962616, 'eval_accuracy': 0.4835137489112853, 'eval_runtime': 98.7721, 'eval_samples_per_second': 81.369, 'eval_steps_per_second': 40.69, 'epoch': 1.0}\n"
     ]
    },
    {
     "name": "stderr",
     "output_type": "stream",
     "text": [
      " 20%|██        | 9500/46880 [16:13<52:48, 11.80it/s]    Saving model checkpoint to test_trainer_class_1\\checkpoint-9500\n",
      "Configuration saved in test_trainer_class_1\\checkpoint-9500\\config.json\n"
     ]
    },
    {
     "name": "stdout",
     "output_type": "stream",
     "text": [
      "{'loss': 0.6975, 'learning_rate': 3.986774744027304e-05, 'epoch': 1.01}\n"
     ]
    },
    {
     "name": "stderr",
     "output_type": "stream",
     "text": [
      "Model weights saved in test_trainer_class_1\\checkpoint-9500\\pytorch_model.bin\n",
      " 21%|██▏       | 10000/46880 [16:58<51:35, 11.91it/s] Saving model checkpoint to test_trainer_class_1\\checkpoint-10000\n",
      "Configuration saved in test_trainer_class_1\\checkpoint-10000\\config.json\n"
     ]
    },
    {
     "name": "stdout",
     "output_type": "stream",
     "text": [
      "{'loss': 0.6973, 'learning_rate': 3.9334470989761094e-05, 'epoch': 1.07}\n"
     ]
    },
    {
     "name": "stderr",
     "output_type": "stream",
     "text": [
      "Model weights saved in test_trainer_class_1\\checkpoint-10000\\pytorch_model.bin\n",
      " 22%|██▏       | 10500/46880 [17:44<49:58, 12.13it/s]  Saving model checkpoint to test_trainer_class_1\\checkpoint-10500\n",
      "Configuration saved in test_trainer_class_1\\checkpoint-10500\\config.json\n"
     ]
    },
    {
     "name": "stdout",
     "output_type": "stream",
     "text": [
      "{'loss': 0.6973, 'learning_rate': 3.880119453924915e-05, 'epoch': 1.12}\n"
     ]
    },
    {
     "name": "stderr",
     "output_type": "stream",
     "text": [
      "Model weights saved in test_trainer_class_1\\checkpoint-10500\\pytorch_model.bin\n",
      " 23%|██▎       | 11000/46880 [18:31<53:23, 11.20it/s]  Saving model checkpoint to test_trainer_class_1\\checkpoint-11000\n",
      "Configuration saved in test_trainer_class_1\\checkpoint-11000\\config.json\n"
     ]
    },
    {
     "name": "stdout",
     "output_type": "stream",
     "text": [
      "{'loss': 0.6932, 'learning_rate': 3.82679180887372e-05, 'epoch': 1.17}\n"
     ]
    },
    {
     "name": "stderr",
     "output_type": "stream",
     "text": [
      "Model weights saved in test_trainer_class_1\\checkpoint-11000\\pytorch_model.bin\n",
      " 25%|██▍       | 11500/46880 [19:17<51:27, 11.46it/s]  Saving model checkpoint to test_trainer_class_1\\checkpoint-11500\n",
      "Configuration saved in test_trainer_class_1\\checkpoint-11500\\config.json\n"
     ]
    },
    {
     "name": "stdout",
     "output_type": "stream",
     "text": [
      "{'loss': 0.6968, 'learning_rate': 3.773464163822526e-05, 'epoch': 1.23}\n"
     ]
    },
    {
     "name": "stderr",
     "output_type": "stream",
     "text": [
      "Model weights saved in test_trainer_class_1\\checkpoint-11500\\pytorch_model.bin\n",
      " 26%|██▌       | 12000/46880 [20:03<51:29, 11.29it/s]  Saving model checkpoint to test_trainer_class_1\\checkpoint-12000\n",
      "Configuration saved in test_trainer_class_1\\checkpoint-12000\\config.json\n"
     ]
    },
    {
     "name": "stdout",
     "output_type": "stream",
     "text": [
      "{'loss': 0.7042, 'learning_rate': 3.720136518771331e-05, 'epoch': 1.28}\n"
     ]
    },
    {
     "name": "stderr",
     "output_type": "stream",
     "text": [
      "Model weights saved in test_trainer_class_1\\checkpoint-12000\\pytorch_model.bin\n",
      " 27%|██▋       | 12500/46880 [20:49<49:24, 11.60it/s]  Saving model checkpoint to test_trainer_class_1\\checkpoint-12500\n",
      "Configuration saved in test_trainer_class_1\\checkpoint-12500\\config.json\n"
     ]
    },
    {
     "name": "stdout",
     "output_type": "stream",
     "text": [
      "{'loss': 0.6997, 'learning_rate': 3.6668088737201366e-05, 'epoch': 1.33}\n"
     ]
    },
    {
     "name": "stderr",
     "output_type": "stream",
     "text": [
      "Model weights saved in test_trainer_class_1\\checkpoint-12500\\pytorch_model.bin\n",
      " 28%|██▊       | 13000/46880 [21:35<48:44, 11.58it/s]  Saving model checkpoint to test_trainer_class_1\\checkpoint-13000\n",
      "Configuration saved in test_trainer_class_1\\checkpoint-13000\\config.json\n"
     ]
    },
    {
     "name": "stdout",
     "output_type": "stream",
     "text": [
      "{'loss': 0.6932, 'learning_rate': 3.6134812286689425e-05, 'epoch': 1.39}\n"
     ]
    },
    {
     "name": "stderr",
     "output_type": "stream",
     "text": [
      "Model weights saved in test_trainer_class_1\\checkpoint-13000\\pytorch_model.bin\n",
      " 29%|██▉       | 13500/46880 [22:21<48:58, 11.36it/s]  Saving model checkpoint to test_trainer_class_1\\checkpoint-13500\n",
      "Configuration saved in test_trainer_class_1\\checkpoint-13500\\config.json\n"
     ]
    },
    {
     "name": "stdout",
     "output_type": "stream",
     "text": [
      "{'loss': 0.694, 'learning_rate': 3.560153583617747e-05, 'epoch': 1.44}\n"
     ]
    },
    {
     "name": "stderr",
     "output_type": "stream",
     "text": [
      "Model weights saved in test_trainer_class_1\\checkpoint-13500\\pytorch_model.bin\n",
      " 30%|██▉       | 14000/46880 [23:07<49:04, 11.17it/s]  Saving model checkpoint to test_trainer_class_1\\checkpoint-14000\n",
      "Configuration saved in test_trainer_class_1\\checkpoint-14000\\config.json\n"
     ]
    },
    {
     "name": "stdout",
     "output_type": "stream",
     "text": [
      "{'loss': 0.6972, 'learning_rate': 3.506825938566553e-05, 'epoch': 1.49}\n"
     ]
    },
    {
     "name": "stderr",
     "output_type": "stream",
     "text": [
      "Model weights saved in test_trainer_class_1\\checkpoint-14000\\pytorch_model.bin\n",
      " 31%|███       | 14500/46880 [23:53<48:02, 11.23it/s]  Saving model checkpoint to test_trainer_class_1\\checkpoint-14500\n",
      "Configuration saved in test_trainer_class_1\\checkpoint-14500\\config.json\n"
     ]
    },
    {
     "name": "stdout",
     "output_type": "stream",
     "text": [
      "{'loss': 0.7001, 'learning_rate': 3.4534982935153584e-05, 'epoch': 1.55}\n"
     ]
    },
    {
     "name": "stderr",
     "output_type": "stream",
     "text": [
      "Model weights saved in test_trainer_class_1\\checkpoint-14500\\pytorch_model.bin\n",
      " 32%|███▏      | 15000/46880 [24:39<47:49, 11.11it/s]  Saving model checkpoint to test_trainer_class_1\\checkpoint-15000\n",
      "Configuration saved in test_trainer_class_1\\checkpoint-15000\\config.json\n"
     ]
    },
    {
     "name": "stdout",
     "output_type": "stream",
     "text": [
      "{'loss': 0.7001, 'learning_rate': 3.400170648464164e-05, 'epoch': 1.6}\n"
     ]
    },
    {
     "name": "stderr",
     "output_type": "stream",
     "text": [
      "Model weights saved in test_trainer_class_1\\checkpoint-15000\\pytorch_model.bin\n",
      " 33%|███▎      | 15500/46880 [25:25<48:27, 10.79it/s]  Saving model checkpoint to test_trainer_class_1\\checkpoint-15500\n",
      "Configuration saved in test_trainer_class_1\\checkpoint-15500\\config.json\n"
     ]
    },
    {
     "name": "stdout",
     "output_type": "stream",
     "text": [
      "{'loss': 0.7002, 'learning_rate': 3.34684300341297e-05, 'epoch': 1.65}\n"
     ]
    },
    {
     "name": "stderr",
     "output_type": "stream",
     "text": [
      "Model weights saved in test_trainer_class_1\\checkpoint-15500\\pytorch_model.bin\n",
      " 34%|███▍      | 16000/46880 [26:11<44:01, 11.69it/s]  Saving model checkpoint to test_trainer_class_1\\checkpoint-16000\n",
      "Configuration saved in test_trainer_class_1\\checkpoint-16000\\config.json\n"
     ]
    },
    {
     "name": "stdout",
     "output_type": "stream",
     "text": [
      "{'loss': 0.6967, 'learning_rate': 3.293515358361775e-05, 'epoch': 1.71}\n"
     ]
    },
    {
     "name": "stderr",
     "output_type": "stream",
     "text": [
      "Model weights saved in test_trainer_class_1\\checkpoint-16000\\pytorch_model.bin\n",
      " 35%|███▌      | 16500/46880 [26:58<45:55, 11.03it/s]  Saving model checkpoint to test_trainer_class_1\\checkpoint-16500\n",
      "Configuration saved in test_trainer_class_1\\checkpoint-16500\\config.json\n"
     ]
    },
    {
     "name": "stdout",
     "output_type": "stream",
     "text": [
      "{'loss': 0.694, 'learning_rate': 3.24018771331058e-05, 'epoch': 1.76}\n"
     ]
    },
    {
     "name": "stderr",
     "output_type": "stream",
     "text": [
      "Model weights saved in test_trainer_class_1\\checkpoint-16500\\pytorch_model.bin\n",
      " 36%|███▋      | 17000/46880 [27:43<43:37, 11.42it/s]  Saving model checkpoint to test_trainer_class_1\\checkpoint-17000\n",
      "Configuration saved in test_trainer_class_1\\checkpoint-17000\\config.json\n"
     ]
    },
    {
     "name": "stdout",
     "output_type": "stream",
     "text": [
      "{'loss': 0.6929, 'learning_rate': 3.1868600682593855e-05, 'epoch': 1.81}\n"
     ]
    },
    {
     "name": "stderr",
     "output_type": "stream",
     "text": [
      "Model weights saved in test_trainer_class_1\\checkpoint-17000\\pytorch_model.bin\n",
      " 37%|███▋      | 17500/46880 [28:29<42:46, 11.45it/s]  Saving model checkpoint to test_trainer_class_1\\checkpoint-17500\n",
      "Configuration saved in test_trainer_class_1\\checkpoint-17500\\config.json\n"
     ]
    },
    {
     "name": "stdout",
     "output_type": "stream",
     "text": [
      "{'loss': 0.6987, 'learning_rate': 3.1335324232081915e-05, 'epoch': 1.87}\n"
     ]
    },
    {
     "name": "stderr",
     "output_type": "stream",
     "text": [
      "Model weights saved in test_trainer_class_1\\checkpoint-17500\\pytorch_model.bin\n",
      " 38%|███▊      | 18000/46880 [29:15<42:50, 11.24it/s]  Saving model checkpoint to test_trainer_class_1\\checkpoint-18000\n",
      "Configuration saved in test_trainer_class_1\\checkpoint-18000\\config.json\n"
     ]
    },
    {
     "name": "stdout",
     "output_type": "stream",
     "text": [
      "{'loss': 0.6947, 'learning_rate': 3.080204778156997e-05, 'epoch': 1.92}\n"
     ]
    },
    {
     "name": "stderr",
     "output_type": "stream",
     "text": [
      "Model weights saved in test_trainer_class_1\\checkpoint-18000\\pytorch_model.bin\n",
      " 39%|███▉      | 18500/46880 [30:02<41:03, 11.52it/s]  Saving model checkpoint to test_trainer_class_1\\checkpoint-18500\n",
      "Configuration saved in test_trainer_class_1\\checkpoint-18500\\config.json\n"
     ]
    },
    {
     "name": "stdout",
     "output_type": "stream",
     "text": [
      "{'loss': 0.6921, 'learning_rate': 3.026877133105802e-05, 'epoch': 1.97}\n"
     ]
    },
    {
     "name": "stderr",
     "output_type": "stream",
     "text": [
      "Model weights saved in test_trainer_class_1\\checkpoint-18500\\pytorch_model.bin\n",
      " 40%|███▉      | 18751/46880 [30:26<42:10, 11.11it/s]  The following columns in the evaluation set  don't have a corresponding argument in `BertForSequenceClassification.forward` and have been ignored: text.\n",
      "***** Running Evaluation *****\n",
      "  Num examples = 8037\n",
      "  Batch size = 2\n",
      " 40%|████      | 18752/46880 [30:43<42:10, 11.11it/s]\n",
      " 40%|████      | 18753/46880 [32:04<116:11:09, 14.87s/it]"
     ]
    },
    {
     "name": "stdout",
     "output_type": "stream",
     "text": [
      "{'eval_loss': 0.6926243901252747, 'eval_accuracy': 0.5164862510887147, 'eval_runtime': 98.5583, 'eval_samples_per_second': 81.546, 'eval_steps_per_second': 40.778, 'epoch': 2.0}\n"
     ]
    },
    {
     "name": "stderr",
     "output_type": "stream",
     "text": [
      " 41%|████      | 19000/46880 [32:26<41:51, 11.10it/s]    Saving model checkpoint to test_trainer_class_1\\checkpoint-19000\n",
      "Configuration saved in test_trainer_class_1\\checkpoint-19000\\config.json\n"
     ]
    },
    {
     "name": "stdout",
     "output_type": "stream",
     "text": [
      "{'loss': 0.6989, 'learning_rate': 2.9735494880546077e-05, 'epoch': 2.03}\n"
     ]
    },
    {
     "name": "stderr",
     "output_type": "stream",
     "text": [
      "Model weights saved in test_trainer_class_1\\checkpoint-19000\\pytorch_model.bin\n",
      " 42%|████▏     | 19500/46880 [33:12<42:08, 10.83it/s]  Saving model checkpoint to test_trainer_class_1\\checkpoint-19500\n",
      "Configuration saved in test_trainer_class_1\\checkpoint-19500\\config.json\n"
     ]
    },
    {
     "name": "stdout",
     "output_type": "stream",
     "text": [
      "{'loss': 0.701, 'learning_rate': 2.9202218430034127e-05, 'epoch': 2.08}\n"
     ]
    },
    {
     "name": "stderr",
     "output_type": "stream",
     "text": [
      "Model weights saved in test_trainer_class_1\\checkpoint-19500\\pytorch_model.bin\n",
      " 43%|████▎     | 20000/46880 [33:55<32:18, 13.87it/s]  Saving model checkpoint to test_trainer_class_1\\checkpoint-20000\n",
      "Configuration saved in test_trainer_class_1\\checkpoint-20000\\config.json\n"
     ]
    },
    {
     "name": "stdout",
     "output_type": "stream",
     "text": [
      "{'loss': 0.6973, 'learning_rate': 2.8668941979522183e-05, 'epoch': 2.13}\n"
     ]
    },
    {
     "name": "stderr",
     "output_type": "stream",
     "text": [
      "Model weights saved in test_trainer_class_1\\checkpoint-20000\\pytorch_model.bin\n",
      " 44%|████▎     | 20500/46880 [34:33<31:39, 13.88it/s]  Saving model checkpoint to test_trainer_class_1\\checkpoint-20500\n",
      "Configuration saved in test_trainer_class_1\\checkpoint-20500\\config.json\n"
     ]
    },
    {
     "name": "stdout",
     "output_type": "stream",
     "text": [
      "{'loss': 0.6987, 'learning_rate': 2.8135665529010243e-05, 'epoch': 2.19}\n"
     ]
    },
    {
     "name": "stderr",
     "output_type": "stream",
     "text": [
      "Model weights saved in test_trainer_class_1\\checkpoint-20500\\pytorch_model.bin\n",
      " 45%|████▍     | 21000/46880 [35:11<30:54, 13.95it/s]  Saving model checkpoint to test_trainer_class_1\\checkpoint-21000\n",
      "Configuration saved in test_trainer_class_1\\checkpoint-21000\\config.json\n"
     ]
    },
    {
     "name": "stdout",
     "output_type": "stream",
     "text": [
      "{'loss': 0.6935, 'learning_rate': 2.76023890784983e-05, 'epoch': 2.24}\n"
     ]
    },
    {
     "name": "stderr",
     "output_type": "stream",
     "text": [
      "Model weights saved in test_trainer_class_1\\checkpoint-21000\\pytorch_model.bin\n",
      " 46%|████▌     | 21500/46880 [35:50<31:04, 13.61it/s]  Saving model checkpoint to test_trainer_class_1\\checkpoint-21500\n",
      "Configuration saved in test_trainer_class_1\\checkpoint-21500\\config.json\n"
     ]
    },
    {
     "name": "stdout",
     "output_type": "stream",
     "text": [
      "{'loss': 0.6964, 'learning_rate': 2.706911262798635e-05, 'epoch': 2.29}\n"
     ]
    },
    {
     "name": "stderr",
     "output_type": "stream",
     "text": [
      "Model weights saved in test_trainer_class_1\\checkpoint-21500\\pytorch_model.bin\n",
      " 47%|████▋     | 22000/46880 [36:28<30:05, 13.78it/s]  Saving model checkpoint to test_trainer_class_1\\checkpoint-22000\n",
      "Configuration saved in test_trainer_class_1\\checkpoint-22000\\config.json\n"
     ]
    },
    {
     "name": "stdout",
     "output_type": "stream",
     "text": [
      "{'loss': 0.7003, 'learning_rate': 2.6535836177474405e-05, 'epoch': 2.35}\n"
     ]
    },
    {
     "name": "stderr",
     "output_type": "stream",
     "text": [
      "Model weights saved in test_trainer_class_1\\checkpoint-22000\\pytorch_model.bin\n",
      " 48%|████▊     | 22500/46880 [37:06<29:29, 13.78it/s]  Saving model checkpoint to test_trainer_class_1\\checkpoint-22500\n",
      "Configuration saved in test_trainer_class_1\\checkpoint-22500\\config.json\n"
     ]
    },
    {
     "name": "stdout",
     "output_type": "stream",
     "text": [
      "{'loss': 0.6938, 'learning_rate': 2.600255972696246e-05, 'epoch': 2.4}\n"
     ]
    },
    {
     "name": "stderr",
     "output_type": "stream",
     "text": [
      "Model weights saved in test_trainer_class_1\\checkpoint-22500\\pytorch_model.bin\n",
      " 49%|████▉     | 23000/46880 [37:44<28:49, 13.80it/s]  Saving model checkpoint to test_trainer_class_1\\checkpoint-23000\n",
      "Configuration saved in test_trainer_class_1\\checkpoint-23000\\config.json\n"
     ]
    },
    {
     "name": "stdout",
     "output_type": "stream",
     "text": [
      "{'loss': 0.6962, 'learning_rate': 2.546928327645051e-05, 'epoch': 2.45}\n"
     ]
    },
    {
     "name": "stderr",
     "output_type": "stream",
     "text": [
      "Model weights saved in test_trainer_class_1\\checkpoint-23000\\pytorch_model.bin\n",
      " 50%|█████     | 23500/46880 [38:23<28:21, 13.74it/s]  Saving model checkpoint to test_trainer_class_1\\checkpoint-23500\n",
      "Configuration saved in test_trainer_class_1\\checkpoint-23500\\config.json\n"
     ]
    },
    {
     "name": "stdout",
     "output_type": "stream",
     "text": [
      "{'loss': 0.6961, 'learning_rate': 2.4936006825938567e-05, 'epoch': 2.51}\n"
     ]
    },
    {
     "name": "stderr",
     "output_type": "stream",
     "text": [
      "Model weights saved in test_trainer_class_1\\checkpoint-23500\\pytorch_model.bin\n",
      " 51%|█████     | 24000/46880 [39:01<27:41, 13.77it/s]  Saving model checkpoint to test_trainer_class_1\\checkpoint-24000\n",
      "Configuration saved in test_trainer_class_1\\checkpoint-24000\\config.json\n"
     ]
    },
    {
     "name": "stdout",
     "output_type": "stream",
     "text": [
      "{'loss': 0.6951, 'learning_rate': 2.4402730375426623e-05, 'epoch': 2.56}\n"
     ]
    },
    {
     "name": "stderr",
     "output_type": "stream",
     "text": [
      "Model weights saved in test_trainer_class_1\\checkpoint-24000\\pytorch_model.bin\n",
      " 52%|█████▏    | 24500/46880 [39:39<26:48, 13.91it/s]  Saving model checkpoint to test_trainer_class_1\\checkpoint-24500\n",
      "Configuration saved in test_trainer_class_1\\checkpoint-24500\\config.json\n"
     ]
    },
    {
     "name": "stdout",
     "output_type": "stream",
     "text": [
      "{'loss': 0.693, 'learning_rate': 2.386945392491468e-05, 'epoch': 2.61}\n"
     ]
    },
    {
     "name": "stderr",
     "output_type": "stream",
     "text": [
      "Model weights saved in test_trainer_class_1\\checkpoint-24500\\pytorch_model.bin\n",
      " 53%|█████▎    | 25000/46880 [40:17<26:20, 13.84it/s]  Saving model checkpoint to test_trainer_class_1\\checkpoint-25000\n",
      "Configuration saved in test_trainer_class_1\\checkpoint-25000\\config.json\n"
     ]
    },
    {
     "name": "stdout",
     "output_type": "stream",
     "text": [
      "{'loss': 0.6959, 'learning_rate': 2.3336177474402733e-05, 'epoch': 2.67}\n"
     ]
    },
    {
     "name": "stderr",
     "output_type": "stream",
     "text": [
      "Model weights saved in test_trainer_class_1\\checkpoint-25000\\pytorch_model.bin\n",
      " 54%|█████▍    | 25500/46880 [40:56<25:49, 13.80it/s]  Saving model checkpoint to test_trainer_class_1\\checkpoint-25500\n",
      "Configuration saved in test_trainer_class_1\\checkpoint-25500\\config.json\n"
     ]
    },
    {
     "name": "stdout",
     "output_type": "stream",
     "text": [
      "{'loss': 0.6911, 'learning_rate': 2.2802901023890785e-05, 'epoch': 2.72}\n"
     ]
    },
    {
     "name": "stderr",
     "output_type": "stream",
     "text": [
      "Model weights saved in test_trainer_class_1\\checkpoint-25500\\pytorch_model.bin\n",
      " 55%|█████▌    | 26000/46880 [41:34<25:04, 13.88it/s]  Saving model checkpoint to test_trainer_class_1\\checkpoint-26000\n",
      "Configuration saved in test_trainer_class_1\\checkpoint-26000\\config.json\n"
     ]
    },
    {
     "name": "stdout",
     "output_type": "stream",
     "text": [
      "{'loss': 0.699, 'learning_rate': 2.2269624573378842e-05, 'epoch': 2.77}\n"
     ]
    },
    {
     "name": "stderr",
     "output_type": "stream",
     "text": [
      "Model weights saved in test_trainer_class_1\\checkpoint-26000\\pytorch_model.bin\n",
      " 57%|█████▋    | 26500/46880 [42:12<24:25, 13.91it/s]  Saving model checkpoint to test_trainer_class_1\\checkpoint-26500\n",
      "Configuration saved in test_trainer_class_1\\checkpoint-26500\\config.json\n"
     ]
    },
    {
     "name": "stdout",
     "output_type": "stream",
     "text": [
      "{'loss': 0.6969, 'learning_rate': 2.1736348122866895e-05, 'epoch': 2.83}\n"
     ]
    },
    {
     "name": "stderr",
     "output_type": "stream",
     "text": [
      "Model weights saved in test_trainer_class_1\\checkpoint-26500\\pytorch_model.bin\n",
      " 58%|█████▊    | 27000/46880 [42:50<24:15, 13.66it/s]  Saving model checkpoint to test_trainer_class_1\\checkpoint-27000\n",
      "Configuration saved in test_trainer_class_1\\checkpoint-27000\\config.json\n"
     ]
    },
    {
     "name": "stdout",
     "output_type": "stream",
     "text": [
      "{'loss': 0.6967, 'learning_rate': 2.1203071672354948e-05, 'epoch': 2.88}\n"
     ]
    },
    {
     "name": "stderr",
     "output_type": "stream",
     "text": [
      "Model weights saved in test_trainer_class_1\\checkpoint-27000\\pytorch_model.bin\n",
      " 59%|█████▊    | 27500/46880 [43:29<23:10, 13.94it/s]  Saving model checkpoint to test_trainer_class_1\\checkpoint-27500\n",
      "Configuration saved in test_trainer_class_1\\checkpoint-27500\\config.json\n"
     ]
    },
    {
     "name": "stdout",
     "output_type": "stream",
     "text": [
      "{'loss': 0.695, 'learning_rate': 2.0669795221843004e-05, 'epoch': 2.93}\n"
     ]
    },
    {
     "name": "stderr",
     "output_type": "stream",
     "text": [
      "Model weights saved in test_trainer_class_1\\checkpoint-27500\\pytorch_model.bin\n",
      " 60%|█████▉    | 28000/46880 [44:07<22:28, 14.00it/s]  Saving model checkpoint to test_trainer_class_1\\checkpoint-28000\n",
      "Configuration saved in test_trainer_class_1\\checkpoint-28000\\config.json\n"
     ]
    },
    {
     "name": "stdout",
     "output_type": "stream",
     "text": [
      "{'loss': 0.692, 'learning_rate': 2.013651877133106e-05, 'epoch': 2.99}\n"
     ]
    },
    {
     "name": "stderr",
     "output_type": "stream",
     "text": [
      "Model weights saved in test_trainer_class_1\\checkpoint-28000\\pytorch_model.bin\n",
      " 60%|█████▉    | 28127/46880 [44:18<22:44, 13.74it/s]  The following columns in the evaluation set  don't have a corresponding argument in `BertForSequenceClassification.forward` and have been ignored: text.\n",
      "***** Running Evaluation *****\n",
      "  Num examples = 8037\n",
      "  Batch size = 2\n",
      " 60%|██████    | 28128/46880 [44:34<22:44, 13.74it/s]\n",
      " 60%|██████    | 28129/46880 [45:38<62:47:55, 12.06s/it]"
     ]
    },
    {
     "name": "stdout",
     "output_type": "stream",
     "text": [
      "{'eval_loss': 0.6940726041793823, 'eval_accuracy': 0.4835137489112853, 'eval_runtime': 79.8896, 'eval_samples_per_second': 100.601, 'eval_steps_per_second': 50.307, 'epoch': 3.0}\n"
     ]
    },
    {
     "name": "stderr",
     "output_type": "stream",
     "text": [
      " 61%|██████    | 28500/46880 [46:05<21:59, 13.93it/s]   Saving model checkpoint to test_trainer_class_1\\checkpoint-28500\n",
      "Configuration saved in test_trainer_class_1\\checkpoint-28500\\config.json\n"
     ]
    },
    {
     "name": "stdout",
     "output_type": "stream",
     "text": [
      "{'loss': 0.6923, 'learning_rate': 1.9603242320819113e-05, 'epoch': 3.04}\n"
     ]
    },
    {
     "name": "stderr",
     "output_type": "stream",
     "text": [
      "Model weights saved in test_trainer_class_1\\checkpoint-28500\\pytorch_model.bin\n",
      " 62%|██████▏   | 29000/46880 [46:43<21:31, 13.84it/s]  Saving model checkpoint to test_trainer_class_1\\checkpoint-29000\n",
      "Configuration saved in test_trainer_class_1\\checkpoint-29000\\config.json\n"
     ]
    },
    {
     "name": "stdout",
     "output_type": "stream",
     "text": [
      "{'loss': 0.6909, 'learning_rate': 1.906996587030717e-05, 'epoch': 3.09}\n"
     ]
    },
    {
     "name": "stderr",
     "output_type": "stream",
     "text": [
      "Model weights saved in test_trainer_class_1\\checkpoint-29000\\pytorch_model.bin\n",
      " 63%|██████▎   | 29500/46880 [47:22<20:45, 13.95it/s]  Saving model checkpoint to test_trainer_class_1\\checkpoint-29500\n",
      "Configuration saved in test_trainer_class_1\\checkpoint-29500\\config.json\n"
     ]
    },
    {
     "name": "stdout",
     "output_type": "stream",
     "text": [
      "{'loss': 0.6989, 'learning_rate': 1.8536689419795222e-05, 'epoch': 3.15}\n"
     ]
    },
    {
     "name": "stderr",
     "output_type": "stream",
     "text": [
      "Model weights saved in test_trainer_class_1\\checkpoint-29500\\pytorch_model.bin\n",
      " 64%|██████▍   | 30000/46880 [48:00<20:09, 13.96it/s]  Saving model checkpoint to test_trainer_class_1\\checkpoint-30000\n",
      "Configuration saved in test_trainer_class_1\\checkpoint-30000\\config.json\n"
     ]
    },
    {
     "name": "stdout",
     "output_type": "stream",
     "text": [
      "{'loss': 0.6948, 'learning_rate': 1.800341296928328e-05, 'epoch': 3.2}\n"
     ]
    },
    {
     "name": "stderr",
     "output_type": "stream",
     "text": [
      "Model weights saved in test_trainer_class_1\\checkpoint-30000\\pytorch_model.bin\n",
      " 65%|██████▌   | 30500/46880 [48:38<19:42, 13.85it/s]  Saving model checkpoint to test_trainer_class_1\\checkpoint-30500\n",
      "Configuration saved in test_trainer_class_1\\checkpoint-30500\\config.json\n"
     ]
    },
    {
     "name": "stdout",
     "output_type": "stream",
     "text": [
      "{'loss': 0.6945, 'learning_rate': 1.747013651877133e-05, 'epoch': 3.25}\n"
     ]
    },
    {
     "name": "stderr",
     "output_type": "stream",
     "text": [
      "Model weights saved in test_trainer_class_1\\checkpoint-30500\\pytorch_model.bin\n",
      " 66%|██████▌   | 31000/46880 [49:17<18:58, 13.95it/s]  Saving model checkpoint to test_trainer_class_1\\checkpoint-31000\n",
      "Configuration saved in test_trainer_class_1\\checkpoint-31000\\config.json\n"
     ]
    },
    {
     "name": "stdout",
     "output_type": "stream",
     "text": [
      "{'loss': 0.6974, 'learning_rate': 1.6936860068259384e-05, 'epoch': 3.31}\n"
     ]
    },
    {
     "name": "stderr",
     "output_type": "stream",
     "text": [
      "Model weights saved in test_trainer_class_1\\checkpoint-31000\\pytorch_model.bin\n",
      " 67%|██████▋   | 31500/46880 [49:55<18:28, 13.88it/s]  Saving model checkpoint to test_trainer_class_1\\checkpoint-31500\n",
      "Configuration saved in test_trainer_class_1\\checkpoint-31500\\config.json\n"
     ]
    },
    {
     "name": "stdout",
     "output_type": "stream",
     "text": [
      "{'loss': 0.6948, 'learning_rate': 1.640358361774744e-05, 'epoch': 3.36}\n"
     ]
    },
    {
     "name": "stderr",
     "output_type": "stream",
     "text": [
      "Model weights saved in test_trainer_class_1\\checkpoint-31500\\pytorch_model.bin\n",
      " 68%|██████▊   | 32000/46880 [50:33<17:52, 13.87it/s]  Saving model checkpoint to test_trainer_class_1\\checkpoint-32000\n",
      "Configuration saved in test_trainer_class_1\\checkpoint-32000\\config.json\n"
     ]
    },
    {
     "name": "stdout",
     "output_type": "stream",
     "text": [
      "{'loss': 0.6982, 'learning_rate': 1.5870307167235497e-05, 'epoch': 3.41}\n"
     ]
    },
    {
     "name": "stderr",
     "output_type": "stream",
     "text": [
      "Model weights saved in test_trainer_class_1\\checkpoint-32000\\pytorch_model.bin\n",
      " 69%|██████▉   | 32500/46880 [51:11<17:25, 13.75it/s]  Saving model checkpoint to test_trainer_class_1\\checkpoint-32500\n",
      "Configuration saved in test_trainer_class_1\\checkpoint-32500\\config.json\n"
     ]
    },
    {
     "name": "stdout",
     "output_type": "stream",
     "text": [
      "{'loss': 0.6969, 'learning_rate': 1.533703071672355e-05, 'epoch': 3.47}\n"
     ]
    },
    {
     "name": "stderr",
     "output_type": "stream",
     "text": [
      "Model weights saved in test_trainer_class_1\\checkpoint-32500\\pytorch_model.bin\n",
      " 70%|███████   | 33000/46880 [51:50<16:50, 13.73it/s]  Saving model checkpoint to test_trainer_class_1\\checkpoint-33000\n",
      "Configuration saved in test_trainer_class_1\\checkpoint-33000\\config.json\n"
     ]
    },
    {
     "name": "stdout",
     "output_type": "stream",
     "text": [
      "{'loss': 0.6973, 'learning_rate': 1.4803754266211606e-05, 'epoch': 3.52}\n"
     ]
    },
    {
     "name": "stderr",
     "output_type": "stream",
     "text": [
      "Model weights saved in test_trainer_class_1\\checkpoint-33000\\pytorch_model.bin\n",
      " 71%|███████▏  | 33500/46880 [52:28<16:00, 13.93it/s]  Saving model checkpoint to test_trainer_class_1\\checkpoint-33500\n",
      "Configuration saved in test_trainer_class_1\\checkpoint-33500\\config.json\n"
     ]
    },
    {
     "name": "stdout",
     "output_type": "stream",
     "text": [
      "{'loss': 0.6932, 'learning_rate': 1.4270477815699659e-05, 'epoch': 3.57}\n"
     ]
    },
    {
     "name": "stderr",
     "output_type": "stream",
     "text": [
      "Model weights saved in test_trainer_class_1\\checkpoint-33500\\pytorch_model.bin\n",
      " 73%|███████▎  | 34000/46880 [53:06<15:24, 13.94it/s]  Saving model checkpoint to test_trainer_class_1\\checkpoint-34000\n",
      "Configuration saved in test_trainer_class_1\\checkpoint-34000\\config.json\n"
     ]
    },
    {
     "name": "stdout",
     "output_type": "stream",
     "text": [
      "{'loss': 0.6944, 'learning_rate': 1.3737201365187714e-05, 'epoch': 3.63}\n"
     ]
    },
    {
     "name": "stderr",
     "output_type": "stream",
     "text": [
      "Model weights saved in test_trainer_class_1\\checkpoint-34000\\pytorch_model.bin\n",
      " 74%|███████▎  | 34500/46880 [53:46<14:50, 13.90it/s]  Saving model checkpoint to test_trainer_class_1\\checkpoint-34500\n",
      "Configuration saved in test_trainer_class_1\\checkpoint-34500\\config.json\n"
     ]
    },
    {
     "name": "stdout",
     "output_type": "stream",
     "text": [
      "{'loss': 0.6956, 'learning_rate': 1.320392491467577e-05, 'epoch': 3.68}\n"
     ]
    },
    {
     "name": "stderr",
     "output_type": "stream",
     "text": [
      "Model weights saved in test_trainer_class_1\\checkpoint-34500\\pytorch_model.bin\n",
      " 75%|███████▍  | 35000/46880 [54:27<17:51, 11.09it/s]  Saving model checkpoint to test_trainer_class_1\\checkpoint-35000\n",
      "Configuration saved in test_trainer_class_1\\checkpoint-35000\\config.json\n"
     ]
    },
    {
     "name": "stdout",
     "output_type": "stream",
     "text": [
      "{'loss': 0.6922, 'learning_rate': 1.2670648464163823e-05, 'epoch': 3.73}\n"
     ]
    },
    {
     "name": "stderr",
     "output_type": "stream",
     "text": [
      "Model weights saved in test_trainer_class_1\\checkpoint-35000\\pytorch_model.bin\n",
      " 76%|███████▌  | 35500/46880 [55:17<17:40, 10.73it/s]  Saving model checkpoint to test_trainer_class_1\\checkpoint-35500\n",
      "Configuration saved in test_trainer_class_1\\checkpoint-35500\\config.json\n"
     ]
    },
    {
     "name": "stdout",
     "output_type": "stream",
     "text": [
      "{'loss': 0.691, 'learning_rate': 1.2137372013651877e-05, 'epoch': 3.79}\n"
     ]
    },
    {
     "name": "stderr",
     "output_type": "stream",
     "text": [
      "Model weights saved in test_trainer_class_1\\checkpoint-35500\\pytorch_model.bin\n",
      " 77%|███████▋  | 36000/46880 [56:02<15:06, 12.00it/s]  Saving model checkpoint to test_trainer_class_1\\checkpoint-36000\n",
      "Configuration saved in test_trainer_class_1\\checkpoint-36000\\config.json\n"
     ]
    },
    {
     "name": "stdout",
     "output_type": "stream",
     "text": [
      "{'loss': 0.6948, 'learning_rate': 1.1604095563139932e-05, 'epoch': 3.84}\n"
     ]
    },
    {
     "name": "stderr",
     "output_type": "stream",
     "text": [
      "Model weights saved in test_trainer_class_1\\checkpoint-36000\\pytorch_model.bin\n",
      " 78%|███████▊  | 36500/46880 [56:46<14:25, 11.99it/s]  Saving model checkpoint to test_trainer_class_1\\checkpoint-36500\n",
      "Configuration saved in test_trainer_class_1\\checkpoint-36500\\config.json\n"
     ]
    },
    {
     "name": "stdout",
     "output_type": "stream",
     "text": [
      "{'loss': 0.6929, 'learning_rate': 1.1070819112627987e-05, 'epoch': 3.89}\n"
     ]
    },
    {
     "name": "stderr",
     "output_type": "stream",
     "text": [
      "Model weights saved in test_trainer_class_1\\checkpoint-36500\\pytorch_model.bin\n",
      " 79%|███████▉  | 37000/46880 [57:30<13:48, 11.92it/s]  Saving model checkpoint to test_trainer_class_1\\checkpoint-37000\n",
      "Configuration saved in test_trainer_class_1\\checkpoint-37000\\config.json\n"
     ]
    },
    {
     "name": "stdout",
     "output_type": "stream",
     "text": [
      "{'loss': 0.6952, 'learning_rate': 1.0537542662116041e-05, 'epoch': 3.95}\n"
     ]
    },
    {
     "name": "stderr",
     "output_type": "stream",
     "text": [
      "Model weights saved in test_trainer_class_1\\checkpoint-37000\\pytorch_model.bin\n",
      " 80%|███████▉  | 37500/46880 [58:14<13:09, 11.88it/s]  Saving model checkpoint to test_trainer_class_1\\checkpoint-37500\n",
      "Configuration saved in test_trainer_class_1\\checkpoint-37500\\config.json\n"
     ]
    },
    {
     "name": "stdout",
     "output_type": "stream",
     "text": [
      "{'loss': 0.6949, 'learning_rate': 1.0004266211604096e-05, 'epoch': 4.0}\n"
     ]
    },
    {
     "name": "stderr",
     "output_type": "stream",
     "text": [
      "Model weights saved in test_trainer_class_1\\checkpoint-37500\\pytorch_model.bin\n",
      " 80%|███████▉  | 37503/46880 [58:17<49:10,  3.18it/s]  The following columns in the evaluation set  don't have a corresponding argument in `BertForSequenceClassification.forward` and have been ignored: text.\n",
      "***** Running Evaluation *****\n",
      "  Num examples = 8037\n",
      "  Batch size = 2\n",
      "                                                     \n",
      " 80%|████████  | 37505/46880 [59:50<36:57:31, 14.19s/it]"
     ]
    },
    {
     "name": "stdout",
     "output_type": "stream",
     "text": [
      "{'eval_loss': 0.692689836025238, 'eval_accuracy': 0.5164862510887147, 'eval_runtime': 92.9887, 'eval_samples_per_second': 86.43, 'eval_steps_per_second': 43.22, 'epoch': 4.0}\n"
     ]
    },
    {
     "name": "stderr",
     "output_type": "stream",
     "text": [
      " 81%|████████  | 38000/46880 [1:00:31<12:31, 11.81it/s] Saving model checkpoint to test_trainer_class_1\\checkpoint-38000\n",
      "Configuration saved in test_trainer_class_1\\checkpoint-38000\\config.json\n"
     ]
    },
    {
     "name": "stdout",
     "output_type": "stream",
     "text": [
      "{'loss': 0.6942, 'learning_rate': 9.47098976109215e-06, 'epoch': 4.05}\n"
     ]
    },
    {
     "name": "stderr",
     "output_type": "stream",
     "text": [
      "Model weights saved in test_trainer_class_1\\checkpoint-38000\\pytorch_model.bin\n",
      " 82%|████████▏ | 38500/46880 [1:01:15<11:48, 11.82it/s]  Saving model checkpoint to test_trainer_class_1\\checkpoint-38500\n",
      "Configuration saved in test_trainer_class_1\\checkpoint-38500\\config.json\n"
     ]
    },
    {
     "name": "stdout",
     "output_type": "stream",
     "text": [
      "{'loss': 0.6965, 'learning_rate': 8.937713310580205e-06, 'epoch': 4.11}\n"
     ]
    },
    {
     "name": "stderr",
     "output_type": "stream",
     "text": [
      "Model weights saved in test_trainer_class_1\\checkpoint-38500\\pytorch_model.bin\n",
      " 83%|████████▎ | 39000/46880 [1:01:57<10:11, 12.89it/s]Saving model checkpoint to test_trainer_class_1\\checkpoint-39000\n",
      "Configuration saved in test_trainer_class_1\\checkpoint-39000\\config.json\n"
     ]
    },
    {
     "name": "stdout",
     "output_type": "stream",
     "text": [
      "{'loss': 0.6933, 'learning_rate': 8.40443686006826e-06, 'epoch': 4.16}\n"
     ]
    },
    {
     "name": "stderr",
     "output_type": "stream",
     "text": [
      "Model weights saved in test_trainer_class_1\\checkpoint-39000\\pytorch_model.bin\n",
      " 84%|████████▍ | 39500/46880 [1:02:39<09:31, 12.92it/s]Saving model checkpoint to test_trainer_class_1\\checkpoint-39500\n",
      "Configuration saved in test_trainer_class_1\\checkpoint-39500\\config.json\n"
     ]
    },
    {
     "name": "stdout",
     "output_type": "stream",
     "text": [
      "{'loss': 0.6956, 'learning_rate': 7.871160409556314e-06, 'epoch': 4.21}\n"
     ]
    },
    {
     "name": "stderr",
     "output_type": "stream",
     "text": [
      "Model weights saved in test_trainer_class_1\\checkpoint-39500\\pytorch_model.bin\n",
      " 85%|████████▌ | 40000/46880 [1:03:20<08:55, 12.85it/s]Saving model checkpoint to test_trainer_class_1\\checkpoint-40000\n",
      "Configuration saved in test_trainer_class_1\\checkpoint-40000\\config.json\n"
     ]
    },
    {
     "name": "stdout",
     "output_type": "stream",
     "text": [
      "{'loss': 0.6937, 'learning_rate': 7.337883959044369e-06, 'epoch': 4.27}\n"
     ]
    },
    {
     "name": "stderr",
     "output_type": "stream",
     "text": [
      "Model weights saved in test_trainer_class_1\\checkpoint-40000\\pytorch_model.bin\n",
      " 86%|████████▋ | 40500/46880 [1:18:09<45:46,  2.32it/s]   Saving model checkpoint to test_trainer_class_1\\checkpoint-40500\n",
      "Configuration saved in test_trainer_class_1\\checkpoint-40500\\config.json\n"
     ]
    },
    {
     "name": "stdout",
     "output_type": "stream",
     "text": [
      "{'loss': 0.6933, 'learning_rate': 6.8046075085324235e-06, 'epoch': 4.32}\n"
     ]
    },
    {
     "name": "stderr",
     "output_type": "stream",
     "text": [
      "Model weights saved in test_trainer_class_1\\checkpoint-40500\\pytorch_model.bin\n",
      " 87%|████████▋ | 41000/46880 [1:21:45<43:26,  2.26it/s]  Saving model checkpoint to test_trainer_class_1\\checkpoint-41000\n",
      "Configuration saved in test_trainer_class_1\\checkpoint-41000\\config.json\n"
     ]
    },
    {
     "name": "stdout",
     "output_type": "stream",
     "text": [
      "{'loss': 0.6945, 'learning_rate': 6.271331058020478e-06, 'epoch': 4.37}\n"
     ]
    },
    {
     "name": "stderr",
     "output_type": "stream",
     "text": [
      "Model weights saved in test_trainer_class_1\\checkpoint-41000\\pytorch_model.bin\n",
      " 89%|████████▊ | 41500/46880 [1:24:43<21:03,  4.26it/s]  Saving model checkpoint to test_trainer_class_1\\checkpoint-41500\n",
      "Configuration saved in test_trainer_class_1\\checkpoint-41500\\config.json\n"
     ]
    },
    {
     "name": "stdout",
     "output_type": "stream",
     "text": [
      "{'loss': 0.6945, 'learning_rate': 5.738054607508533e-06, 'epoch': 4.43}\n"
     ]
    },
    {
     "name": "stderr",
     "output_type": "stream",
     "text": [
      "Model weights saved in test_trainer_class_1\\checkpoint-41500\\pytorch_model.bin\n",
      " 90%|████████▉ | 42000/46880 [1:26:44<19:03,  4.27it/s]  Saving model checkpoint to test_trainer_class_1\\checkpoint-42000\n",
      "Configuration saved in test_trainer_class_1\\checkpoint-42000\\config.json\n"
     ]
    },
    {
     "name": "stdout",
     "output_type": "stream",
     "text": [
      "{'loss': 0.6914, 'learning_rate': 5.204778156996587e-06, 'epoch': 4.48}\n"
     ]
    },
    {
     "name": "stderr",
     "output_type": "stream",
     "text": [
      "Model weights saved in test_trainer_class_1\\checkpoint-42000\\pytorch_model.bin\n",
      " 91%|█████████ | 42500/46880 [1:29:33<34:38,  2.11it/s]  Saving model checkpoint to test_trainer_class_1\\checkpoint-42500\n",
      "Configuration saved in test_trainer_class_1\\checkpoint-42500\\config.json\n"
     ]
    },
    {
     "name": "stdout",
     "output_type": "stream",
     "text": [
      "{'loss': 0.6969, 'learning_rate': 4.671501706484642e-06, 'epoch': 4.53}\n"
     ]
    },
    {
     "name": "stderr",
     "output_type": "stream",
     "text": [
      "Model weights saved in test_trainer_class_1\\checkpoint-42500\\pytorch_model.bin\n",
      " 92%|█████████▏| 43000/46880 [1:33:22<27:09,  2.38it/s]  Saving model checkpoint to test_trainer_class_1\\checkpoint-43000\n",
      "Configuration saved in test_trainer_class_1\\checkpoint-43000\\config.json\n"
     ]
    },
    {
     "name": "stdout",
     "output_type": "stream",
     "text": [
      "{'loss': 0.6916, 'learning_rate': 4.1382252559726965e-06, 'epoch': 4.59}\n"
     ]
    },
    {
     "name": "stderr",
     "output_type": "stream",
     "text": [
      "Model weights saved in test_trainer_class_1\\checkpoint-43000\\pytorch_model.bin\n",
      " 93%|█████████▎| 43500/46880 [1:36:56<24:35,  2.29it/s]  Saving model checkpoint to test_trainer_class_1\\checkpoint-43500\n",
      "Configuration saved in test_trainer_class_1\\checkpoint-43500\\config.json\n"
     ]
    },
    {
     "name": "stdout",
     "output_type": "stream",
     "text": [
      "{'loss': 0.6929, 'learning_rate': 3.604948805460751e-06, 'epoch': 4.64}\n"
     ]
    },
    {
     "name": "stderr",
     "output_type": "stream",
     "text": [
      "Model weights saved in test_trainer_class_1\\checkpoint-43500\\pytorch_model.bin\n",
      " 94%|█████████▍| 44000/46880 [1:40:26<19:32,  2.46it/s]  Saving model checkpoint to test_trainer_class_1\\checkpoint-44000\n",
      "Configuration saved in test_trainer_class_1\\checkpoint-44000\\config.json\n"
     ]
    },
    {
     "name": "stdout",
     "output_type": "stream",
     "text": [
      "{'loss': 0.6946, 'learning_rate': 3.0716723549488057e-06, 'epoch': 4.69}\n"
     ]
    },
    {
     "name": "stderr",
     "output_type": "stream",
     "text": [
      "Model weights saved in test_trainer_class_1\\checkpoint-44000\\pytorch_model.bin\n",
      " 95%|█████████▍| 44500/46880 [1:43:41<11:36,  3.42it/s]  Saving model checkpoint to test_trainer_class_1\\checkpoint-44500\n",
      "Configuration saved in test_trainer_class_1\\checkpoint-44500\\config.json\n"
     ]
    },
    {
     "name": "stdout",
     "output_type": "stream",
     "text": [
      "{'loss': 0.6952, 'learning_rate': 2.5383959044368603e-06, 'epoch': 4.75}\n"
     ]
    },
    {
     "name": "stderr",
     "output_type": "stream",
     "text": [
      "Model weights saved in test_trainer_class_1\\checkpoint-44500\\pytorch_model.bin\n",
      " 96%|█████████▌| 45000/46880 [1:46:15<10:07,  3.09it/s]Saving model checkpoint to test_trainer_class_1\\checkpoint-45000\n",
      "Configuration saved in test_trainer_class_1\\checkpoint-45000\\config.json\n"
     ]
    },
    {
     "name": "stdout",
     "output_type": "stream",
     "text": [
      "{'loss': 0.697, 'learning_rate': 2.005119453924915e-06, 'epoch': 4.8}\n"
     ]
    },
    {
     "name": "stderr",
     "output_type": "stream",
     "text": [
      "Model weights saved in test_trainer_class_1\\checkpoint-45000\\pytorch_model.bin\n",
      " 97%|█████████▋| 45500/46880 [1:48:51<07:00,  3.28it/s]Saving model checkpoint to test_trainer_class_1\\checkpoint-45500\n",
      "Configuration saved in test_trainer_class_1\\checkpoint-45500\\config.json\n"
     ]
    },
    {
     "name": "stdout",
     "output_type": "stream",
     "text": [
      "{'loss': 0.698, 'learning_rate': 1.4718430034129693e-06, 'epoch': 4.85}\n"
     ]
    },
    {
     "name": "stderr",
     "output_type": "stream",
     "text": [
      "Model weights saved in test_trainer_class_1\\checkpoint-45500\\pytorch_model.bin\n",
      " 98%|█████████▊| 46000/46880 [1:51:26<04:11,  3.50it/s]Saving model checkpoint to test_trainer_class_1\\checkpoint-46000\n",
      "Configuration saved in test_trainer_class_1\\checkpoint-46000\\config.json\n"
     ]
    },
    {
     "name": "stdout",
     "output_type": "stream",
     "text": [
      "{'loss': 0.6948, 'learning_rate': 9.38566552901024e-07, 'epoch': 4.91}\n"
     ]
    },
    {
     "name": "stderr",
     "output_type": "stream",
     "text": [
      "Model weights saved in test_trainer_class_1\\checkpoint-46000\\pytorch_model.bin\n",
      " 99%|█████████▉| 46500/46880 [1:54:01<01:51,  3.40it/s]Saving model checkpoint to test_trainer_class_1\\checkpoint-46500\n",
      "Configuration saved in test_trainer_class_1\\checkpoint-46500\\config.json\n"
     ]
    },
    {
     "name": "stdout",
     "output_type": "stream",
     "text": [
      "{'loss': 0.6955, 'learning_rate': 4.052901023890785e-07, 'epoch': 4.96}\n"
     ]
    },
    {
     "name": "stderr",
     "output_type": "stream",
     "text": [
      "Model weights saved in test_trainer_class_1\\checkpoint-46500\\pytorch_model.bin\n",
      "100%|██████████| 46880/46880 [1:56:00<00:00,  3.29it/s]The following columns in the evaluation set  don't have a corresponding argument in `BertForSequenceClassification.forward` and have been ignored: text.\n",
      "***** Running Evaluation *****\n",
      "  Num examples = 8037\n",
      "  Batch size = 2\n",
      "                                                       \n",
      "100%|██████████| 46880/46880 [1:58:45<00:00,  3.29it/s]\n",
      "\n",
      "Training completed. Do not forget to share your model on huggingface.co/models =)\n",
      "\n",
      "\n",
      "100%|██████████| 46880/46880 [1:58:45<00:00,  6.58it/s]"
     ]
    },
    {
     "name": "stdout",
     "output_type": "stream",
     "text": [
      "{'eval_loss': 0.6928670406341553, 'eval_accuracy': 0.5164862510887147, 'eval_runtime': 164.4131, 'eval_samples_per_second': 48.883, 'eval_steps_per_second': 24.445, 'epoch': 5.0}\n",
      "{'train_runtime': 7125.4341, 'train_samples_per_second': 13.158, 'train_steps_per_second': 6.579, 'train_loss': 0.6958916348402003, 'epoch': 5.0}\n"
     ]
    },
    {
     "name": "stderr",
     "output_type": "stream",
     "text": [
      "\n"
     ]
    },
    {
     "data": {
      "text/plain": [
       "TrainOutput(global_step=46880, training_loss=0.6958916348402003, metrics={'train_runtime': 7125.4341, 'train_samples_per_second': 13.158, 'train_steps_per_second': 6.579, 'train_loss': 0.6958916348402003, 'epoch': 5.0})"
      ]
     },
     "execution_count": 22,
     "metadata": {},
     "output_type": "execute_result"
    }
   ],
   "source": [
    "trainer.train()"
   ]
  },
  {
   "cell_type": "code",
   "execution_count": 24,
   "metadata": {},
   "outputs": [
    {
     "name": "stderr",
     "output_type": "stream",
     "text": [
      "The following columns in the test set  don't have a corresponding argument in `BertForSequenceClassification.forward` and have been ignored: text.\n",
      "***** Running Prediction *****\n",
      "  Num examples = 18751\n",
      "  Batch size = 2\n",
      "13391it [04:51, 51.09it/s]                         "
     ]
    },
    {
     "data": {
      "text/plain": [
       "PredictionOutput(predictions=array([[-0.03326268, -0.01324107],\n",
       "       [-0.03327196, -0.01322575],\n",
       "       [-0.03326493, -0.01325857],\n",
       "       ...,\n",
       "       [-0.03326451, -0.01323024],\n",
       "       [-0.03326571, -0.01323332],\n",
       "       [-0.03327554, -0.01322028]], dtype=float32), label_ids=array([1, 0, 1, ..., 0, 1, 0], dtype=int64), metrics={'test_loss': 0.6929210424423218, 'test_accuracy': 0.5137859314169911, 'test_runtime': 181.5791, 'test_samples_per_second': 103.266, 'test_steps_per_second': 51.636})"
      ]
     },
     "execution_count": 24,
     "metadata": {},
     "output_type": "execute_result"
    },
    {
     "name": "stderr",
     "output_type": "stream",
     "text": [
      "13395it [05:09, 51.09it/s]"
     ]
    }
   ],
   "source": [
    "trainer.predict(train_tokenized_datasets)"
   ]
  },
  {
   "cell_type": "code",
   "execution_count": 23,
   "metadata": {},
   "outputs": [
    {
     "name": "stderr",
     "output_type": "stream",
     "text": [
      "The following columns in the test set  don't have a corresponding argument in `BertForSequenceClassification.forward` and have been ignored: text.\n",
      "***** Running Prediction *****\n",
      "  Num examples = 8037\n",
      "  Batch size = 2\n",
      "100%|██████████| 4019/4019 [01:50<00:00, 53.43it/s]"
     ]
    },
    {
     "data": {
      "text/plain": [
       "PredictionOutput(predictions=array([[-0.03327847, -0.01322578],\n",
       "       [-0.0332557 , -0.01324651],\n",
       "       [-0.03325518, -0.01323215],\n",
       "       ...,\n",
       "       [-0.03328364, -0.01322294],\n",
       "       [-0.03325091, -0.01324074],\n",
       "       [-0.03327898, -0.01322959]], dtype=float32), label_ids=array([0, 1, 0, ..., 1, 1, 0], dtype=int64), metrics={'test_loss': 0.6928670406341553, 'test_accuracy': 0.5164862510887147, 'test_runtime': 110.4596, 'test_samples_per_second': 72.76, 'test_steps_per_second': 36.384})"
      ]
     },
     "execution_count": 23,
     "metadata": {},
     "output_type": "execute_result"
    }
   ],
   "source": [
    "trainer.predict(test_tokenized_datasets)"
   ]
  }
 ],
 "metadata": {
  "interpreter": {
   "hash": "004c2e9412938facc8b97ac538eb28e4545f84a77db020d41d95c52e1cbef676"
  },
  "kernelspec": {
   "display_name": "Python 3.9.1 ('.venv': venv)",
   "language": "python",
   "name": "python3"
  },
  "language_info": {
   "codemirror_mode": {
    "name": "ipython",
    "version": 3
   },
   "file_extension": ".py",
   "mimetype": "text/x-python",
   "name": "python",
   "nbconvert_exporter": "python",
   "pygments_lexer": "ipython3",
   "version": "3.9.1"
  },
  "orig_nbformat": 4
 },
 "nbformat": 4,
 "nbformat_minor": 2
}
